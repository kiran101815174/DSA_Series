{
  "nbformat": 4,
  "nbformat_minor": 0,
  "metadata": {
    "colab": {
      "name": "Dynamic_Programming.ipynb",
      "provenance": [],
      "authorship_tag": "ABX9TyMZZILr2g3Tvz/SkZf4rp1q",
      "include_colab_link": true
    },
    "kernelspec": {
      "name": "python3",
      "display_name": "Python 3"
    },
    "language_info": {
      "name": "python"
    }
  },
  "cells": [
    {
      "cell_type": "markdown",
      "metadata": {
        "id": "view-in-github",
        "colab_type": "text"
      },
      "source": [
        "<a href=\"https://colab.research.google.com/github/kiran101815174/DSA_Series/blob/main/Dynamic_Programming.ipynb\" target=\"_parent\"><img src=\"https://colab.research.google.com/assets/colab-badge.svg\" alt=\"Open In Colab\"/></a>"
      ]
    },
    {
      "cell_type": "markdown",
      "source": [
        "Dynamic programming is a technique to solve problems by breaking it down into a colle\n",
        "ction of sub-problems, solving each of those sub-problems just once and storing these \n",
        "solutions inside the cache memory in case the same problem occurs the next time. \n",
        "Dynamic Programming is mainly an optimization over plain recursion . \n",
        "Wherever we see a recursive solution that has repeated calls for same inputs, we can o\n",
        "ptimize it using Dynamic Programming. \n",
        "This simple optimization reduces the time complexities from exponential to polynomial.\n",
        "There are two different ways to store our values so that they can be reused at a later i\n",
        "nstance. They are as follows:\n",
        "1. Memoization or the Top Down Approach.\n",
        "2. Tabulation or the Bottom Up approach.\n",
        "In Memoization we start from the extreme state and compute result by using values th\n",
        "at can reach the destination state i.e the base state.\n",
        "In Tabulation we start from the base state and then compute results all the way till the\n",
        " extreme state.\n",
        "Note: To store the intermediate results we can use Array, Matrix, Hashmap etc., all we \n",
        "need is data storage and retrieval with a specific key"
      ],
      "metadata": {
        "id": "hXF_8to53jSU"
      }
    },
    {
      "cell_type": "markdown",
      "source": [
        "##1) Climbing Stairs"
      ],
      "metadata": {
        "id": "UjYbF5IM4Yrt"
      }
    },
    {
      "cell_type": "code",
      "execution_count": 7,
      "metadata": {
        "colab": {
          "base_uri": "https://localhost:8080/"
        },
        "id": "K2msINEQ3dF0",
        "outputId": "ecd4ca40-3f9a-4ec9-f6b6-de4afa9aafa5"
      },
      "outputs": [
        {
          "output_type": "stream",
          "name": "stdout",
          "text": [
            "21\n"
          ]
        }
      ],
      "source": [
        "#without DP-Dynamic Programming\n",
        "def func(cur_sum,n):\n",
        "  if cur_sum>n:\n",
        "    return 0\n",
        "  elif cur_sum==n:\n",
        "    return 1\n",
        "  return func(cur_sum+1,n)+func(cur_sum+2,n)\n",
        "\n",
        "\n",
        "#DP APproach\n",
        "def func_dp(cur_sum,n,dict_):\n",
        "  if cur_sum==n:\n",
        "    return 1\n",
        "  elif cur_sum>n:\n",
        "      return 0\n",
        "  elif cur_sum in dict_.keys():\n",
        "      return dict_[cur_sum]\n",
        "  one_step = func_dp(cur_sum+1,n,dict_)\n",
        "  two_step =func_dp(cur_sum+2,n,dict_)\n",
        "  dict_[cur_sum]=one_step+two_step\n",
        "  return one_step+two_step\n",
        "        \n",
        "dict_={}\n",
        "func_dp(0,n,dict_)\n",
        "n=7\n",
        "k=func(0,n)\n",
        "print(k)\n",
        "# print(total)"
      ]
    }
  ]
}