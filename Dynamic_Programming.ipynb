{
  "nbformat": 4,
  "nbformat_minor": 0,
  "metadata": {
    "colab": {
      "name": "Dynamic_Programming.ipynb",
      "provenance": [],
      "authorship_tag": "ABX9TyOVvjhIZNm815IKKgvqH14s",
      "include_colab_link": true
    },
    "kernelspec": {
      "name": "python3",
      "display_name": "Python 3"
    },
    "language_info": {
      "name": "python"
    }
  },
  "cells": [
    {
      "cell_type": "markdown",
      "metadata": {
        "id": "view-in-github",
        "colab_type": "text"
      },
      "source": [
        "<a href=\"https://colab.research.google.com/github/kiran101815174/DSA_Series/blob/main/Dynamic_Programming.ipynb\" target=\"_parent\"><img src=\"https://colab.research.google.com/assets/colab-badge.svg\" alt=\"Open In Colab\"/></a>"
      ]
    },
    {
      "cell_type": "markdown",
      "source": [
        "Dynamic programming is a technique to solve problems by breaking it down into a colle\n",
        "ction of sub-problems, solving each of those sub-problems just once and storing these \n",
        "solutions inside the cache memory in case the same problem occurs the next time. \n",
        "Dynamic Programming is mainly an optimization over plain recursion . \n",
        "Wherever we see a recursive solution that has repeated calls for same inputs, we can o\n",
        "ptimize it using Dynamic Programming. \n",
        "This simple optimization reduces the time complexities from exponential to polynomial.\n",
        "There are two different ways to store our values so that they can be reused at a later i\n",
        "nstance. They are as follows:\n",
        "1. Memoization or the Top Down Approach.\n",
        "2. Tabulation or the Bottom Up approach.\n",
        "In Memoization we start from the extreme state and compute result by using values th\n",
        "at can reach the destination state i.e the base state.\n",
        "In Tabulation we start from the base state and then compute results all the way till the\n",
        " extreme state.\n",
        "Note: To store the intermediate results we can use Array, Matrix, Hashmap etc., all we \n",
        "need is data storage and retrieval with a specific key"
      ],
      "metadata": {
        "id": "hXF_8to53jSU"
      }
    },
    {
      "cell_type": "markdown",
      "source": [
        "##1) Climbing Stairs"
      ],
      "metadata": {
        "id": "UjYbF5IM4Yrt"
      }
    },
    {
      "cell_type": "code",
      "execution_count": null,
      "metadata": {
        "id": "K2msINEQ3dF0"
      },
      "outputs": [],
      "source": [
        "#without DP-Dynamic Programming\n",
        "def func(cur_sum,n):\n",
        "  if cur_sum>n:\n",
        "    return 0\n",
        "  elif cur_sum==n:\n",
        "    return 1\n",
        "  return func(cur_sum+1,n)+func(cur_sum+2,n)\n",
        "\n",
        "\n",
        "#DP APproach-Bottom-up\n",
        "def func_dp(cur_sum,n,dict_):\n",
        "  if cur_sum==n:\n",
        "    return 1\n",
        "  elif cur_sum>n:\n",
        "      return 0\n",
        "  elif cur_sum in dict_.keys():\n",
        "      return dict_[cur_sum]\n",
        "  one_step = func_dp(cur_sum+1,n,dict_)\n",
        "  two_step =func_dp(cur_sum+2,n,dict_)\n",
        "  dict_[cur_sum]=one_step+two_step\n",
        "  return one_step+two_step\n",
        "#Dp-top-down\n",
        "dict_={1:1,2:2}\n",
        "def func(n,dict_):\n",
        "  if n<2:\n",
        "    return 1\n",
        "  if n  in dict_:\n",
        "    return dict_[n]\n",
        "  dict_[n] = func(n-1,n,dict_)+func(n-2,n,dict_)\n",
        "  return dict_[n] "
      ]
    },
    {
      "cell_type": "markdown",
      "source": [
        "##2) Minimum cost climbing\n",
        "https://leetcode.com/problems/min-cost-climbing-stairs/submissions/"
      ],
      "metadata": {
        "id": "mFeIwk6dY-MO"
      }
    },
    {
      "cell_type": "code",
      "source": [
        "class Solution:\n",
        "    def minCostClimbingStairs(self, cost) -> int:\n",
        "        cost.append(0)\n",
        "        n=len(cost)\n",
        "        dict_={1:cost[0],2:cost[1]}\n",
        "        def func(n,cost,dict_):\n",
        "            if n in dict_:\n",
        "                return dict_[n]\n",
        "            dict_[n]=min(cost[n-1]+func(n-1,cost,dict_),cost[n-1]+func(n-2,cost,dict_))\n",
        "            return dict_[n]\n",
        "                \n",
        "              \n",
        "        return func(n,cost,dict_)\n",
        "            \n",
        "            \n",
        "\n"
      ],
      "metadata": {
        "id": "nybZnmccfs-P"
      },
      "execution_count": null,
      "outputs": []
    },
    {
      "cell_type": "markdown",
      "source": [
        "##3) House Robber\n",
        "https://leetcode.com/problems/house-robber/"
      ],
      "metadata": {
        "id": "agH94vBhl8rW"
      }
    },
    {
      "cell_type": "code",
      "source": [
        "class Solution:\n",
        "    def rob(self, nums) -> int:\n",
        "        n=len(nums)\n",
        "        dict_={}\n",
        "        def func(n,dict_):\n",
        "            if n<=1:\n",
        "                return 0\n",
        "            if n in dict_:\n",
        "                return dict_[n]\n",
        "            if n-3>=0:\n",
        "                dict_[n]=max(nums[n-2]+func(n-2,dict_),nums[n-3]+func(n-3,dict_))\n",
        "            else:\n",
        "                dict_[n]= nums[n-2]+func(n-2,dict_)\n",
        "            return dict_[n]\n",
        "        return max(nums[n-1]+func(n-1,dict_),nums[n-2]+func(n-2,dict_))\n",
        "        "
      ],
      "metadata": {
        "id": "Sm3chfadl71I"
      },
      "execution_count": null,
      "outputs": []
    },
    {
      "cell_type": "markdown",
      "source": [
        "## 4) House Robber -2"
      ],
      "metadata": {
        "id": "kF4nW_hWAxlX"
      }
    },
    {
      "cell_type": "code",
      "source": [
        "nums=[200,3,140,20,10]\n",
        "dict_={0:nums[0],1:nums[1]}\n",
        "n=len(nums)\n",
        "def func(n,dict_,start):\n",
        "  if (start==-1 and n==0):\n",
        "    return 0\n",
        "  if n in dict_:\n",
        "    return dict_[n]\n",
        "  if n>=3:\n",
        "    dict_[n]=max(nums[n]+func(n-2,dict_,start),nums[n]+func(n-3,dict_,start))\n",
        "    return dict_[n]\n",
        "  else:\n",
        "    dict_[n]=nums[n]+func(n-2,dict_,start)\n",
        "    return dict_[n]\n",
        "\n",
        "#print(func(n-3,dict_,start=-3))  \n",
        "a=func(n-1,dict_,start=-1)\n",
        "dict_={0:nums[0],1:nums[1]}\n",
        "b= func(n-2,dict_,start=-2)\n",
        "dict_={0:nums[0],1:nums[1]}\n",
        "c=func(n-3,dict_,start=-3)\n",
        "print(max(a,b,c))"
      ],
      "metadata": {
        "colab": {
          "base_uri": "https://localhost:8080/"
        },
        "id": "RbZG2G10uLQp",
        "outputId": "723839a1-d88a-4c9f-dba2-d690dfd71884"
      },
      "execution_count": 36,
      "outputs": [
        {
          "output_type": "stream",
          "name": "stdout",
          "text": [
            "340\n"
          ]
        }
      ]
    },
    {
      "cell_type": "markdown",
      "source": [
        "## 5) Partition equal sums"
      ],
      "metadata": {
        "id": "p_4K506LoRMl"
      }
    },
    {
      "cell_type": "code",
      "source": [
        "def canPartition(nums) -> bool:\n",
        "        if sum(nums)%2!=0:\n",
        "            return False\n",
        "        dp=[False for _ in range(sum(nums)+1)]\n",
        "        dp[0]=True\n",
        "        for i in range(len(nums)):\n",
        "            for j in range(len(dp)-1,nums[i]-1,-1):\n",
        "                dp[j]=dp[j] or dp[j-nums[i]]\n",
        "        return dp[sum(nums)//2]"
      ],
      "metadata": {
        "id": "O0VdWZiVuLIH"
      },
      "execution_count": 51,
      "outputs": []
    }
  ]
}