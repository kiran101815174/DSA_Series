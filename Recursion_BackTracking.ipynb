{
  "nbformat": 4,
  "nbformat_minor": 0,
  "metadata": {
    "colab": {
      "name": "Recursion_BackTracking.ipynb",
      "provenance": [],
      "authorship_tag": "ABX9TyO35clXNCIot6AnRbYLiVH6",
      "include_colab_link": true
    },
    "kernelspec": {
      "name": "python3",
      "display_name": "Python 3"
    },
    "language_info": {
      "name": "python"
    }
  },
  "cells": [
    {
      "cell_type": "markdown",
      "metadata": {
        "id": "view-in-github",
        "colab_type": "text"
      },
      "source": [
        "<a href=\"https://colab.research.google.com/github/kiran101815174/DSA_Series/blob/main/Recursion_BackTracking.ipynb\" target=\"_parent\"><img src=\"https://colab.research.google.com/assets/colab-badge.svg\" alt=\"Open In Colab\"/></a>"
      ]
    },
    {
      "cell_type": "markdown",
      "source": [
        "## Recursion and Back-tracking"
      ],
      "metadata": {
        "id": "-Et3-UQutdvp"
      }
    },
    {
      "cell_type": "markdown",
      "source": [
        "1) Tower of Hanoi"
      ],
      "metadata": {
        "id": "OHRWyxOTtibT"
      }
    },
    {
      "cell_type": "code",
      "source": [
        "def tower_of_hanoi(n,from_stick,aux_stick,to_stick):\n",
        "\n",
        "  if n==0:\n",
        "    return\n",
        "  tower_of_hanoi(n-1,from_stick,to_stick,aux_stick)\n",
        "  print(f'move Disk {n} from {from_stick} to {to_stick}')\n",
        "  tower_of_hanoi(n-1,aux_stick,from_stick,to_stick)\n",
        "\n",
        "\n",
        "n=4\n",
        "tower_of_hanoi(n,'A','B','C')"
      ],
      "metadata": {
        "colab": {
          "base_uri": "https://localhost:8080/"
        },
        "id": "vt8KliS_tdQB",
        "outputId": "06fa452f-610e-4fee-bcae-9184d6b02c16"
      },
      "execution_count": null,
      "outputs": [
        {
          "output_type": "stream",
          "name": "stdout",
          "text": [
            "move Disk 1 from A to B\n",
            "move Disk 2 from A to C\n",
            "move Disk 1 from B to C\n",
            "move Disk 3 from A to B\n",
            "move Disk 1 from C to A\n",
            "move Disk 2 from C to B\n",
            "move Disk 1 from A to B\n",
            "move Disk 4 from A to C\n",
            "move Disk 1 from B to C\n",
            "move Disk 2 from B to A\n",
            "move Disk 1 from C to A\n",
            "move Disk 3 from B to C\n",
            "move Disk 1 from A to B\n",
            "move Disk 2 from A to C\n",
            "move Disk 1 from B to C\n"
          ]
        }
      ]
    },
    {
      "cell_type": "markdown",
      "source": [
        "2) Check whether array is sorted"
      ],
      "metadata": {
        "id": "EVHHLThP9Fjs"
      }
    },
    {
      "cell_type": "code",
      "source": [
        "arr=[5,3,2,4,1]\n",
        "def check_sort(arr):\n",
        "  if len(arr)==1:\n",
        "    return True\n",
        "  return arr[0]<=arr[1] and check_sort(arr[1:])\n",
        "print(check_sort(arr))\n",
        "arr1=[1,2,3,4,5]\n",
        "print(check_sort(arr1))"
      ],
      "metadata": {
        "colab": {
          "base_uri": "https://localhost:8080/"
        },
        "id": "TOFsMkhftdGF",
        "outputId": "afcf8654-8754-40d7-f331-d4f8714b9339"
      },
      "execution_count": null,
      "outputs": [
        {
          "output_type": "stream",
          "name": "stdout",
          "text": [
            "False\n",
            "True\n"
          ]
        }
      ]
    },
    {
      "cell_type": "markdown",
      "source": [
        "## Back-Tracking"
      ],
      "metadata": {
        "id": "kzQCj4KOqIGt"
      }
    },
    {
      "cell_type": "markdown",
      "source": [
        "Problem-3 Generate all the binary strings with ݊ bits. Assume ܣ]0. . ݊ − 1] is an array of size ݊"
      ],
      "metadata": {
        "id": "rFqo9NHKqRdj"
      }
    },
    {
      "cell_type": "code",
      "source": [
        "def append_front(x,L):\n",
        "  return [x+ element for element in L]\n",
        "\n",
        "def gen_strings(n):\n",
        "  if n==0: return []\n",
        "  if n==1: return [\"0\",\"1\"]\n",
        "  else:\n",
        "    return (append_front(\"0\",gen_strings(n-1)) + append_front(\"1\",gen_strings(n-1)))\n",
        "\n",
        "print(gen_strings(4))\n",
        "  \n",
        "\n"
      ],
      "metadata": {
        "colab": {
          "base_uri": "https://localhost:8080/"
        },
        "id": "y3uOkqCeqQep",
        "outputId": "da530c08-9539-46c3-fc03-9b25cb175970"
      },
      "execution_count": null,
      "outputs": [
        {
          "output_type": "stream",
          "name": "stdout",
          "text": [
            "['0000', '0001', '0010', '0011', '0100', '0101', '0110', '0111', '1000', '1001', '1010', '1011', '1100', '1101', '1110', '1111']\n"
          ]
        }
      ]
    },
    {
      "cell_type": "markdown",
      "source": [
        "Problem-4\n",
        "Finding the length of connected cells of 1s (regions) in a matrix of 0s and 1s:"
      ],
      "metadata": {
        "id": "qgKIRNvdWCPH"
      }
    },
    {
      "cell_type": "code",
      "source": [
        "def get_verified(arr,i,j,L,H):\n",
        "  if (i< 0 or i >= L or j< 0 or j >= H):\n",
        "    return  0\n",
        "  else:\n",
        "    return arr[i][j]\n",
        "\n",
        "def getMaxpath(arr,r,c,L,H,size):\n",
        "  global max_size\n",
        "  global arrcnt\n",
        "\n",
        "  if (r >= L or c >= H):\n",
        "    return\n",
        "\n",
        "  arrcnt[r][c]=1\n",
        "  size=size+1\n",
        "  if (size > max_size):\n",
        "    max_size=size\n",
        "  direction = [[-1,0],[-1,-1],[0,-1],[1,-1],[1,0],[1,1],[0,1],[-1,1]]\n",
        "  for dir in range(7):\n",
        "    newi= r + direction[dir][0]\n",
        "    newj = c+ direction[dir][1]\n",
        "    val =get_verified(arr,newi,newj,L,H)\n",
        "    if ((val >0) and (arrcnt[newi][newj]==0 )):\n",
        "      getMaxpath(arr,newi,newj,L,H,size)\n",
        "\n",
        "  arrcnt[r][c]=0\n",
        "\n",
        "\n",
        "def main_func(arr,rmax,cmax):\n",
        "  global max_size\n",
        "  global arrcnt\n",
        "  global size\n",
        "\n",
        "  for i in range(rmax):\n",
        "    for j in range(cmax):\n",
        "      if (arr[i][j]==1):\n",
        "        getMaxpath(arr,i,j,rmax,cmax,0)\n",
        "  return max_size\n",
        "\n",
        "\n",
        "zarr=[[1,1,0,0,0],[0,1,1,0,1],[0,0,0,1,1],[1,0,0,1,1],[0,1,0,1,1]]\n",
        "rmax = 5\n",
        "cmax=5\n",
        "max_size=0\n",
        "size=0\n",
        "arrcnt=rmax*[cmax*[0]]\n",
        "print(main_func(zarr,rmax,cmax)) \n",
        "\n"
      ],
      "metadata": {
        "id": "JKs285mYtdEw",
        "colab": {
          "base_uri": "https://localhost:8080/"
        },
        "outputId": "910e7602-a159-4e83-b6f1-a7b6ab4cf0b5"
      },
      "execution_count": null,
      "outputs": [
        {
          "output_type": "stream",
          "name": "stdout",
          "text": [
            "5\n"
          ]
        }
      ]
    },
    {
      "cell_type": "markdown",
      "source": [
        "Problem-5 Path finding problem: Given an ݊ × ݊ matrix of blocks with a source upper left block, we want to find a path from the \n",
        "source to the destination(the lower right block). We can only move downwards and to the left. Also, a path is given by 1 and a wall is given \n",
        "by 0. The following is an example of a maze(the grey cells are inaccessible).\n"
      ],
      "metadata": {
        "id": "fr5KfeFjrCuf"
      }
    },
    {
      "cell_type": "code",
      "execution_count": 4,
      "metadata": {
        "id": "pEMU-UuAtadv",
        "colab": {
          "base_uri": "https://localhost:8080/"
        },
        "outputId": "18b3a30e-f224-4ff1-d438-f2868c565307"
      },
      "outputs": [
        {
          "output_type": "stream",
          "name": "stdout",
          "text": [
            "[(0, 0), (0, 1), (1, 1), (2, 1), (3, 1), (4, 1), (4, 2), (4, 3), (4, 4)]\n"
          ]
        }
      ],
      "source": [
        "def pathFinder(Matrix,position,N):\n",
        "  x,y=position\n",
        "  if x==N-1 and y==N-1:\n",
        "    return [(N-1,N-1)]\n",
        "  directions =[0,1],[1,0]\n",
        "  for d in directions:\n",
        "    new_x = x+ d[0]\n",
        "    new_y = y+ d[1]\n",
        "    if (Matrix[new_x][new_y]==1) and (new_x <N and new_y <N):\n",
        "      a= pathFinder(Matrix,(new_x,new_y),N)\n",
        "      if a != None:\n",
        "        return [(x,y)]+a\n",
        "\n",
        "  return None\n",
        "\n",
        "Matrix = [[ 1 , 1 , 1, 1 , 0], [ 0 , 1 , 0, 1 , 0], [ 0 , 1 , 0, 1 , 0], [ 0 , 1 , 0, 0 , 0], [ 1 , 1 , 1, 1 , 1] ]\n",
        "print (pathFinder(Matrix,(0,0),5))"
      ]
    }
  ]
}