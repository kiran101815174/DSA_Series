{
  "nbformat": 4,
  "nbformat_minor": 0,
  "metadata": {
    "colab": {
      "name": "Stacks.ipynb",
      "provenance": [],
      "authorship_tag": "ABX9TyPl7e4eCmKeKT4MTBZplUiT",
      "include_colab_link": true
    },
    "kernelspec": {
      "name": "python3",
      "display_name": "Python 3"
    },
    "language_info": {
      "name": "python"
    }
  },
  "cells": [
    {
      "cell_type": "markdown",
      "metadata": {
        "id": "view-in-github",
        "colab_type": "text"
      },
      "source": [
        "<a href=\"https://colab.research.google.com/github/kiran101815174/DSA_Series/blob/main/Stacks.ipynb\" target=\"_parent\"><img src=\"https://colab.research.google.com/assets/colab-badge.svg\" alt=\"Open In Colab\"/></a>"
      ]
    },
    {
      "cell_type": "markdown",
      "source": [
        "## Stack\n",
        "A stack is an ordered list in which insertion and deletion are done at one end, called top .The last element inserted is the first \n",
        "one to be deleted. Hence, it is called the Last in First out (LIFO) or First in Last out (FILO) list.\n",
        "\n",
        "\n",
        "## Main stack operations\n",
        "* push (data): Inserts ݀ܽݐ ܽonto stack.\n",
        "* pop(): Removes and returns the last inserted element from the stack.\n",
        "Auxiliary stack operations\n",
        "* top(): Returns the last inserted element without removing it.\n",
        "* size(): Returns the number of elements stored in the stack.\n",
        "* isEmpty(): Indicates whether any elements are stored in the stack or not.\n",
        "* isFull(): Indicates whether the stack is full or not."
      ],
      "metadata": {
        "id": "nkCBz1LtpZ1R"
      }
    },
    {
      "cell_type": "markdown",
      "source": [
        "## 1) Simple Array Implemention "
      ],
      "metadata": {
        "id": "kCIxfMPmrxZA"
      }
    },
    {
      "cell_type": "code",
      "execution_count": 13,
      "metadata": {
        "id": "69eOwduRpTPt"
      },
      "outputs": [],
      "source": [
        "import random\n",
        "class Stack:\n",
        " def __init__(self, Capacity = 20):\n",
        "   self.top = -1\n",
        "   self.Capacity = Capacity\n",
        "   self.A = [None] * Capacity\n",
        " \n",
        " def push(self, data):\n",
        "   if self.Capacity == self.top + 1:\n",
        "     print(\"Stack overflow\")\n",
        "     return\n",
        "   self.top = self.top + 1\n",
        "   self.A[self.top] = data \n",
        " \n",
        " def pop(self):\n",
        "   if self.top == -1:\n",
        "    print(\"Stack underflow\")\n",
        "    return\n",
        "   temp = self.A[self.top]\n",
        "   self.A[self.top]=None\n",
        "   self.top = self.top - 1\n",
        "  #  if self.top < self.Capacity//2:\n",
        "  #   print(\"Trying to resize: Decrease\")\n",
        "  #   self.Capacity = self.Capacity//2\n",
        "  #   newArray = [None] * self.Capacity\n",
        "  #   for i in range(0, self.top+1):\n",
        "  #     newArray[i]=self.A[i]\n",
        "  #   self.A=newArray\n",
        "   return temp\n",
        "\n",
        " def peek(self):\n",
        "   if self.top == -1:\n",
        "    print(\"Stack underflow\")\n",
        "    return\n",
        "   return self.A[self.top]\n",
        " \n",
        " def isEmpty(self):\n",
        "   return self.top == -1\n",
        " \n",
        " def isFull(self):\n",
        "   return self.Capacity == self.top + 1\n",
        "\n",
        "stack = Stack(11)\n",
        "for x in range(10):\n",
        "  stack.push(random.randint(1,21))\n",
        "# for x in range(12):\n",
        "#   temp = stack.pop()\n",
        "#   if temp is not None:\n",
        "#     print (temp)\n"
      ]
    },
    {
      "cell_type": "markdown",
      "source": [
        "#2) Implement on how stacks can be used for balancing symbols"
      ],
      "metadata": {
        "id": "Vi7QrHoevHGI"
      }
    },
    {
      "cell_type": "code",
      "source": [
        "def isValid_expression(expression):\n",
        "  stack = Stack()\n",
        "  mappings={\")\":\"(\",\"}\":\"{\",\"]\":\"[\"} #Mappings\n",
        "  for symbol in expression:\n",
        "    if symbol in mappings:\n",
        "      #check in keys of dict\n",
        "      top_element =stack.pop() if stack else \"#\"\n",
        "      if mappings[symbol] !=top_element:\n",
        "        return False\n",
        "    else:\n",
        "      stack.push(symbol)\n",
        "  if stack.A ==[None]*stack.Capacity:\n",
        "    return True\n",
        "  else:\n",
        "    return False\n",
        "\n",
        "print(isValid_expression(\"{[()]}\"))\n"
      ],
      "metadata": {
        "colab": {
          "base_uri": "https://localhost:8080/"
        },
        "id": "b5w_9kdHvGqs",
        "outputId": "06e39544-e366-4b13-fa36-1573e1c4864c"
      },
      "execution_count": 18,
      "outputs": [
        {
          "output_type": "stream",
          "name": "stdout",
          "text": [
            "True\n"
          ]
        }
      ]
    },
    {
      "cell_type": "code",
      "source": [
        ""
      ],
      "metadata": {
        "id": "smmM3URPpakJ"
      },
      "execution_count": null,
      "outputs": []
    },
    {
      "cell_type": "code",
      "source": [
        ""
      ],
      "metadata": {
        "id": "Tw2HVAjSpair"
      },
      "execution_count": null,
      "outputs": []
    }
  ]
}