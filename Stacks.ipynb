{
  "cells": [
    {
      "cell_type": "markdown",
      "metadata": {
        "id": "view-in-github",
        "colab_type": "text"
      },
      "source": [
        "<a href=\"https://colab.research.google.com/github/kiran101815174/DSA_Series/blob/main/Stacks.ipynb\" target=\"_parent\"><img src=\"https://colab.research.google.com/assets/colab-badge.svg\" alt=\"Open In Colab\"/></a>"
      ]
    },
    {
      "cell_type": "markdown",
      "metadata": {
        "id": "nkCBz1LtpZ1R"
      },
      "source": [
        "## Stack\n",
        "A stack is an ordered list in which insertion and deletion are done at one end, called top .The last element inserted is the first \n",
        "one to be deleted. Hence, it is called the Last in First out (LIFO) or First in Last out (FILO) list.\n",
        "\n",
        "\n",
        "## Main stack operations\n",
        "* push (data): Inserts ݀ܽݐ ܽonto stack.\n",
        "* pop(): Removes and returns the last inserted element from the stack.\n",
        "Auxiliary stack operations\n",
        "* top(): Returns the last inserted element without removing it.\n",
        "* size(): Returns the number of elements stored in the stack.\n",
        "* isEmpty(): Indicates whether any elements are stored in the stack or not.\n",
        "* isFull(): Indicates whether the stack is full or not."
      ]
    },
    {
      "cell_type": "markdown",
      "metadata": {
        "id": "kCIxfMPmrxZA"
      },
      "source": [
        "## 1) Simple Array Implemention "
      ]
    },
    {
      "cell_type": "code",
      "execution_count": null,
      "metadata": {
        "id": "69eOwduRpTPt"
      },
      "outputs": [],
      "source": [
        "import random\n",
        "class Stack:\n",
        " def __init__(self, Capacity = 20):\n",
        "   self.top = -1\n",
        "   self.Capacity = Capacity\n",
        "   self.A = [None] * Capacity\n",
        " \n",
        " def push(self, data):\n",
        "   if self.Capacity == self.top + 1:\n",
        "     print(\"Stack overflow\")\n",
        "     return\n",
        "   self.top = self.top + 1\n",
        "   self.A[self.top] = data \n",
        " \n",
        " def pop(self):\n",
        "   if self.top == -1:\n",
        "    print(\"Stack underflow\")\n",
        "    return\n",
        "   temp = self.A[self.top]\n",
        "   self.A[self.top]=None\n",
        "   self.top = self.top - 1\n",
        "  #  if self.top < self.Capacity//2:\n",
        "  #   print(\"Trying to resize: Decrease\")\n",
        "  #   self.Capacity = self.Capacity//2\n",
        "  #   newArray = [None] * self.Capacity\n",
        "  #   for i in range(0, self.top+1):\n",
        "  #     newArray[i]=self.A[i]\n",
        "  #   self.A=newArray\n",
        "   return temp\n",
        "\n",
        " def peek(self):\n",
        "   if self.top == -1:\n",
        "    print(\"Stack underflow\")\n",
        "    return\n",
        "   return self.A[self.top]\n",
        " \n",
        " def isEmpty(self):\n",
        "   return self.top == -1\n",
        " \n",
        " def isFull(self):\n",
        "   return self.Capacity == self.top + 1\n",
        "\n",
        "stack = Stack(11)\n",
        "for x in range(10):\n",
        "  stack.push(random.randint(1,21))\n",
        "# for x in range(12):\n",
        "#   temp = stack.pop()\n",
        "#   if temp is not None:\n",
        "#     print (temp)\n"
      ]
    },
    {
      "cell_type": "markdown",
      "metadata": {
        "id": "Vi7QrHoevHGI"
      },
      "source": [
        "#2) Implement on how stacks can be used for balancing symbols"
      ]
    },
    {
      "cell_type": "code",
      "execution_count": null,
      "metadata": {
        "colab": {
          "base_uri": "https://localhost:8080/"
        },
        "id": "b5w_9kdHvGqs",
        "outputId": "06e39544-e366-4b13-fa36-1573e1c4864c"
      },
      "outputs": [
        {
          "name": "stdout",
          "output_type": "stream",
          "text": [
            "True\n"
          ]
        }
      ],
      "source": [
        "def isValid_expression(expression):\n",
        "  stack = Stack()\n",
        "  mappings={\")\":\"(\",\"}\":\"{\",\"]\":\"[\"} #Mappings\n",
        "  for symbol in expression:\n",
        "    if symbol in mappings:\n",
        "      #check in keys of dict\n",
        "      top_element =stack.pop() if stack else \"#\"\n",
        "      if mappings[symbol] !=top_element:\n",
        "        return False\n",
        "    else:\n",
        "      stack.push(symbol)\n",
        "  if stack.A ==[None]*stack.Capacity:\n",
        "    return True\n",
        "  else:\n",
        "    return False\n",
        "\n",
        "print(isValid_expression(\"{[()]}\"))\n"
      ]
    },
    {
      "cell_type": "markdown",
      "metadata": {
        "id": "iZLye8F573Zd"
      },
      "source": [
        "## 3) Infix to Postfix conversion"
      ]
    },
    {
      "cell_type": "code",
      "execution_count": null,
      "metadata": {
        "colab": {
          "base_uri": "https://localhost:8080/"
        },
        "id": "smmM3URPpakJ",
        "outputId": "d778dec6-647a-4708-bcd9-66813c25595f"
      },
      "outputs": [
        {
          "output_type": "stream",
          "name": "stdout",
          "text": [
            "AB*CD*+\n",
            "ABC+*D*\n"
          ]
        }
      ],
      "source": [
        "class Stack():\n",
        "  def __init__(self):\n",
        "    self.items =[]\n",
        "  def pop(self):\n",
        "    return self.items.pop()\n",
        "  def push(self,data):\n",
        "    self.items.append(data)\n",
        "  def isEmpty(self):\n",
        "    return []==self.items\n",
        "  def peek(self):\n",
        "    return self.items[-1]\n",
        "  def __str__(self):\n",
        "    return \"\".join(self.items)\n",
        "\n",
        "def infix_to_postfix(expression):\n",
        "  prec = {}\n",
        "  prec[\"*\"] = 3\n",
        "  prec[\"/\"] = 3\n",
        "  prec[\"+\"] = 2\n",
        "  prec[\"-\"] = 2\n",
        "  prec[\"(\"] = 1\n",
        "  opStack = Stack()\n",
        "  postfixList = []\n",
        "  tokens =expression.split()\n",
        "  for token in tokens:\n",
        "    if token in  \"ABCDEFGHIJKLMNOPQRSTUVWXYZ\" or token in \"0123456789\":\n",
        "      postfixList.append(token)\n",
        "    elif token ==\"(\":\n",
        "      opStack.push(token)\n",
        "    elif token ==\")\":\n",
        "      top_token = opStack.pop()\n",
        "      while top_token !=\"(\":\n",
        "        postfixList.append(top_token)\n",
        "        top_token =opStack.pop()\n",
        "    else:\n",
        "      while (not opStack.isEmpty()) and (prec[token] <= prec[opStack.peek()]):\n",
        "        postfixList.append(opStack.pop())\n",
        "      opStack.push(token)\n",
        "  while not opStack.isEmpty():\n",
        "    postfixList.append(opStack.pop())\n",
        "  return \"\".join(postfixList)\n",
        "\n",
        "\n",
        "print(infix_to_postfix(\"A * B + C * D\"))\n",
        "print(infix_to_postfix(\"A * ( B + C ) * D\"))"
      ]
    },
    {
      "cell_type": "markdown",
      "source": [
        "## 4) Discuss the evaluation of postfix expression"
      ],
      "metadata": {
        "id": "z8JruKOxMozd"
      }
    },
    {
      "cell_type": "code",
      "execution_count": 2,
      "metadata": {
        "colab": {
          "base_uri": "https://localhost:8080/"
        },
        "id": "Tw2HVAjSpair",
        "outputId": "fc3a30b8-4a7d-41b7-b4f2-a5c055b17a72"
      },
      "outputs": [
        {
          "output_type": "stream",
          "name": "stdout",
          "text": [
            "2\n"
          ]
        }
      ],
      "source": [
        "class Stack():\n",
        "  def __init__(self):\n",
        "    self.items =[]\n",
        "  def pop(self):\n",
        "    return self.items.pop()\n",
        "  def push(self,data):\n",
        "    self.items.append(data)\n",
        "  def isEmpty(self):\n",
        "    return []==self.items\n",
        "  def peek(self):\n",
        "    return self.items[-1]\n",
        "  def __str__(self):\n",
        "    return \"\".join(self.items)\n",
        "\n",
        "def evaluate(expression):\n",
        "  tokens =expression.split()\n",
        "  stack =Stack()\n",
        "  for token in tokens:\n",
        "    if token in \"0123456789\":\n",
        "      stack.push(token)\n",
        "    elif token ==\"*\":\n",
        "      a=int(stack.pop())\n",
        "      b=int(stack.pop())\n",
        "      c = b*a\n",
        "      stack.push(c)\n",
        "    elif token ==\"+\":\n",
        "      a=int(stack.pop())\n",
        "      b=int(stack.pop())\n",
        "      c = b+a\n",
        "      stack.push(c)\n",
        "    elif token ==\"-\":\n",
        "      a=int(stack.pop())\n",
        "      b=int(stack.pop())\n",
        "      c = b-a\n",
        "      stack.push(c)\n",
        "    elif token ==\"/\":\n",
        "      a=int(stack.pop())\n",
        "      b=int(stack.pop())\n",
        "      c = b/a\n",
        "      stack.push(c)\n",
        "  return stack.pop()\n",
        "\n",
        "print(evaluate(\"1 2 3 * + 5 -\"))\n",
        "    "
      ]
    },
    {
      "cell_type": "markdown",
      "source": [
        "## 5) convert infix to prefix expression"
      ],
      "metadata": {
        "id": "YOU4zDD7UNv4"
      }
    },
    {
      "cell_type": "code",
      "source": [
        "def infix_to_prefix(expression):\n",
        "  #reverse the expression and split\n",
        "  tokens = expression[::-1].split()\n",
        "\n",
        "  prec = {}\n",
        "  prec[\"*\"] = 3\n",
        "  prec[\"/\"] = 3\n",
        "  prec[\"+\"] = 2\n",
        "  prec[\"-\"] = 2\n",
        "  prec[\")\"] = 1\n",
        "  opStack = Stack()\n",
        "  prefixList = []\n",
        "\n",
        "  for token in tokens:\n",
        "    if token in  \"ABCDEFGHIJKLMNOPQRSTUVWXYZ\" or token in \"0123456789\":\n",
        "      prefixList.append(token)\n",
        "    elif token ==\")\":\n",
        "      opStack.push(\")\")\n",
        "    elif token == \"(\":\n",
        "      operator = opStack.pop()\n",
        "      while operator!=\")\":\n",
        "        prefixList.append(operator)\n",
        "        operator = opStack.pop()\n",
        "    else:\n",
        "      while (not opStack.isEmpty()) and (prec[token] <= prec[opStack.peek()]):\n",
        "        prefixList.append(opStack.pop())\n",
        "      opStack.push(token)\n",
        "  while not opStack.isEmpty():\n",
        "    prefixList.append(opStack.pop())\n",
        "  return \"\".join(prefixList)[::-1]\n",
        "\n",
        "\n",
        "print(infix_to_prefix(\"( A + B ) + ( C - D )\"))\n",
        "    \n",
        "\n",
        "\n",
        "\n"
      ],
      "metadata": {
        "colab": {
          "base_uri": "https://localhost:8080/"
        },
        "id": "xBkvtLgDOtj1",
        "outputId": "aad96034-a7bb-459a-f3c9-8e726b0494e0"
      },
      "execution_count": 8,
      "outputs": [
        {
          "output_type": "stream",
          "name": "stdout",
          "text": [
            "++AB-CD\n"
          ]
        }
      ]
    },
    {
      "cell_type": "code",
      "source": [
        ""
      ],
      "metadata": {
        "id": "yH0HpHSLOte1"
      },
      "execution_count": 3,
      "outputs": []
    },
    {
      "cell_type": "code",
      "source": [
        ""
      ],
      "metadata": {
        "id": "qOo8JWY5OtdW"
      },
      "execution_count": null,
      "outputs": []
    },
    {
      "cell_type": "code",
      "source": [
        ""
      ],
      "metadata": {
        "id": "CbNo5LLXOtYH"
      },
      "execution_count": null,
      "outputs": []
    },
    {
      "cell_type": "code",
      "source": [
        ""
      ],
      "metadata": {
        "id": "ITRXh914OtWW"
      },
      "execution_count": null,
      "outputs": []
    },
    {
      "cell_type": "code",
      "source": [
        ""
      ],
      "metadata": {
        "id": "yr7584wmOtRw"
      },
      "execution_count": null,
      "outputs": []
    },
    {
      "cell_type": "code",
      "source": [
        ""
      ],
      "metadata": {
        "id": "SpWQSPkLOtP8"
      },
      "execution_count": null,
      "outputs": []
    }
  ],
  "metadata": {
    "colab": {
      "name": "Stacks.ipynb",
      "provenance": [],
      "authorship_tag": "ABX9TyNQnVYyw2Fb+3mHJDNjgmmF",
      "include_colab_link": true
    },
    "kernelspec": {
      "display_name": "Python 3",
      "name": "python3"
    },
    "language_info": {
      "name": "python"
    }
  },
  "nbformat": 4,
  "nbformat_minor": 0
}