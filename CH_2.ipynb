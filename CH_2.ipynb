{
  "nbformat": 4,
  "nbformat_minor": 0,
  "metadata": {
    "colab": {
      "name": "CH_2.ipynb",
      "provenance": [],
      "authorship_tag": "ABX9TyOCdpxKTTITMjtDyA4PtvhW",
      "include_colab_link": true
    },
    "kernelspec": {
      "name": "python3",
      "display_name": "Python 3"
    },
    "language_info": {
      "name": "python"
    }
  },
  "cells": [
    {
      "cell_type": "markdown",
      "metadata": {
        "id": "view-in-github",
        "colab_type": "text"
      },
      "source": [
        "<a href=\"https://colab.research.google.com/github/kiran101815174/DSA_Series/blob/main/CH_2.ipynb\" target=\"_parent\"><img src=\"https://colab.research.google.com/assets/colab-badge.svg\" alt=\"Open In Colab\"/></a>"
      ]
    },
    {
      "cell_type": "markdown",
      "source": [
        "## Recursion and Back-tracking"
      ],
      "metadata": {
        "id": "-Et3-UQutdvp"
      }
    },
    {
      "cell_type": "markdown",
      "source": [
        "1) Tower of Hanoi"
      ],
      "metadata": {
        "id": "OHRWyxOTtibT"
      }
    },
    {
      "cell_type": "code",
      "source": [
        "def tower_of_hanoi(n,from_stick,aux_stick,to_stick):\n",
        "\n",
        "  if n==0:\n",
        "    return\n",
        "  tower_of_hanoi(n-1,from_stick,to_stick,aux_stick)\n",
        "  print(f'move Disk {n} from {from_stick} to {to_stick}')\n",
        "  tower_of_hanoi(n-1,aux_stick,from_stick,to_stick)\n",
        "\n",
        "\n",
        "n=4\n",
        "tower_of_hanoi(n,'A','B','C')"
      ],
      "metadata": {
        "colab": {
          "base_uri": "https://localhost:8080/"
        },
        "id": "vt8KliS_tdQB",
        "outputId": "06fa452f-610e-4fee-bcae-9184d6b02c16"
      },
      "execution_count": 4,
      "outputs": [
        {
          "output_type": "stream",
          "name": "stdout",
          "text": [
            "move Disk 1 from A to B\n",
            "move Disk 2 from A to C\n",
            "move Disk 1 from B to C\n",
            "move Disk 3 from A to B\n",
            "move Disk 1 from C to A\n",
            "move Disk 2 from C to B\n",
            "move Disk 1 from A to B\n",
            "move Disk 4 from A to C\n",
            "move Disk 1 from B to C\n",
            "move Disk 2 from B to A\n",
            "move Disk 1 from C to A\n",
            "move Disk 3 from B to C\n",
            "move Disk 1 from A to B\n",
            "move Disk 2 from A to C\n",
            "move Disk 1 from B to C\n"
          ]
        }
      ]
    },
    {
      "cell_type": "code",
      "source": [
        "n=3\n",
        "tower_of_hanoi(n,'A','B','C')"
      ],
      "metadata": {
        "colab": {
          "base_uri": "https://localhost:8080/"
        },
        "id": "TOFsMkhftdGF",
        "outputId": "67c76376-aee7-408a-ea10-3d426d49beee"
      },
      "execution_count": 5,
      "outputs": [
        {
          "output_type": "stream",
          "name": "stdout",
          "text": [
            "move Disk 1 from A to C\n",
            "move Disk 2 from A to B\n",
            "move Disk 1 from C to B\n",
            "move Disk 3 from A to C\n",
            "move Disk 1 from B to A\n",
            "move Disk 2 from B to C\n",
            "move Disk 1 from A to C\n"
          ]
        }
      ]
    },
    {
      "cell_type": "code",
      "source": [
        ""
      ],
      "metadata": {
        "id": "JKs285mYtdEw"
      },
      "execution_count": null,
      "outputs": []
    },
    {
      "cell_type": "code",
      "execution_count": null,
      "metadata": {
        "id": "pEMU-UuAtadv"
      },
      "outputs": [],
      "source": [
        ""
      ]
    }
  ]
}