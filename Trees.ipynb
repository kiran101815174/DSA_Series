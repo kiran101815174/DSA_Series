{
  "nbformat": 4,
  "nbformat_minor": 0,
  "metadata": {
    "colab": {
      "name": "Trees.ipynb",
      "provenance": [],
      "authorship_tag": "ABX9TyObHRi5wtiVWNul0t5nmbP4",
      "include_colab_link": true
    },
    "kernelspec": {
      "name": "python3",
      "display_name": "Python 3"
    },
    "language_info": {
      "name": "python"
    }
  },
  "cells": [
    {
      "cell_type": "markdown",
      "metadata": {
        "id": "view-in-github",
        "colab_type": "text"
      },
      "source": [
        "<a href=\"https://colab.research.google.com/github/kiran101815174/DSA_Series/blob/main/Trees.ipynb\" target=\"_parent\"><img src=\"https://colab.research.google.com/assets/colab-badge.svg\" alt=\"Open In Colab\"/></a>"
      ]
    },
    {
      "cell_type": "markdown",
      "source": [
        "## 1) Binary Tree"
      ],
      "metadata": {
        "id": "Dz_6Lw1dUXTo"
      }
    },
    {
      "cell_type": "code",
      "execution_count": null,
      "metadata": {
        "id": "O7eqZPS-SYH7"
      },
      "outputs": [],
      "source": [
        "class BinaryTreeNode:\n",
        "\n",
        "  def __init__(self, data):\n",
        "    self.data = data #root node\n",
        "    self.left = None #left child\n",
        "    self.right = None #right child\n",
        "  #set data\n",
        "  def setData(self, data):\n",
        "    self.data = data\n",
        "  #get data \n",
        "  def getData(self):\n",
        "    return self.data\n",
        "  #get left child of a node\n",
        "  def getLeft(self):\n",
        "    return self.left\n",
        "  #get right child of a node\n",
        "  def getRight(self):\n",
        "    return self.right\n",
        "\n",
        "class BinaryTree:\n",
        "  def __init__(self,root=None):\n",
        "    self.root=None"
      ]
    },
    {
      "cell_type": "markdown",
      "source": [
        "##2) Traversal Methods\n",
        "  \n",
        "\n",
        "*   Pre-order Traversal\n",
        "*   In-order Traversal  \n",
        "*   Post-order Traversal\n",
        "\n",
        "\n",
        "\n"
      ],
      "metadata": {
        "id": "HdoAcCCCV0Ir"
      }
    },
    {
      "cell_type": "code",
      "source": [
        "class BinaryTree:\n",
        "  def __init__(self,root=None):\n",
        "    self.root=root\n",
        "  def preOrder(self,root):\n",
        "    if root==None:\n",
        "      return\n",
        "    print(root.data,sep=\"-->\",end=\"-->\")\n",
        "    self.preOrder(root.left)\n",
        "    self.preOrder(root.right)\n",
        "\n",
        "b1 =BinaryTreeNode(1)\n",
        "b2 =BinaryTreeNode(2)\n",
        "b3 =BinaryTreeNode(3)\n",
        "b4 =BinaryTreeNode(4)\n",
        "b5 =BinaryTreeNode(5)\n",
        "b6 =BinaryTreeNode(6)\n",
        "b7 =BinaryTreeNode(7)\n",
        "\n",
        "b1.left=b2\n",
        "b1.right =b3\n",
        "\n",
        "b2.left = b4\n",
        "b2.right = b5\n",
        "\n",
        "b3.left=b6\n",
        "b3.right =b7\n",
        "\n",
        "B = BinaryTree(b1)\n",
        "B.preOrder(B.root)\n",
        "#print(B.root.data)"
      ],
      "metadata": {
        "colab": {
          "base_uri": "https://localhost:8080/"
        },
        "id": "r_r1YthjU7fq",
        "outputId": "aedc7b7f-2847-4efd-dd32-c65f77d6654c"
      },
      "execution_count": null,
      "outputs": [
        {
          "output_type": "stream",
          "name": "stdout",
          "text": [
            "1-->2-->4-->5-->3-->6-->7-->"
          ]
        }
      ]
    },
    {
      "cell_type": "markdown",
      "source": [
        "## 3) Max depth of binary tree"
      ],
      "metadata": {
        "id": "41KOkSx3gQ_O"
      }
    },
    {
      "cell_type": "code",
      "source": [
        "def max_depth(node):\n",
        "  if node ==None:\n",
        "    return 0\n",
        "  left=1+max_depth(node.left)\n",
        "  right =1+max_depth(node.right)\n",
        "  return max(left,right)\n",
        "print(max_depth(b1))"
      ],
      "metadata": {
        "id": "a0jqY0ZHU8MD",
        "colab": {
          "base_uri": "https://localhost:8080/"
        },
        "outputId": "9c8f89b2-ada3-4c3f-96a3-53aee3ffb9d7"
      },
      "execution_count": null,
      "outputs": [
        {
          "output_type": "stream",
          "name": "stdout",
          "text": [
            "3\n"
          ]
        }
      ]
    },
    {
      "cell_type": "markdown",
      "source": [
        "## 4) Merge 2 Binary Trees-Given 2 head produce the sum binary trees\n",
        "\n"
      ],
      "metadata": {
        "id": "E0UF4_IZizPQ"
      }
    },
    {
      "cell_type": "code",
      "source": [
        "def merge_trees(node1,node2):\n",
        "  if node1==None & node2 ==None:\n",
        "    return None\n",
        "  elif node1==None:\n",
        "    return node2\n",
        "  elif node2==None:\n",
        "    return node1\n",
        "  new_node = BinaryTreeNode(node1.data+node2.data)\n",
        "  new_node.right =merge_trees(node1.right,node2.right)\n",
        "  new_node.left  =merge_trees(node1.left,node2.left)\n",
        "  return new_node\n",
        "\n",
        "\n",
        "  \n",
        "\n"
      ],
      "metadata": {
        "id": "j304EtOCU8nM"
      },
      "execution_count": null,
      "outputs": []
    },
    {
      "cell_type": "markdown",
      "source": [
        "## 5) Sum of root to leaf Binary Number\n",
        "https://leetcode.com/problems/sum-of-root-to-leaf-binary-numbers/"
      ],
      "metadata": {
        "id": "LgQGRJLdMWDm"
      }
    },
    {
      "cell_type": "code",
      "source": [
        "def sumRootToLeaf(self, root) -> int:\n",
        "        def root_to_leaf(root,cur_str):\n",
        "            if root==None:\n",
        "                return 0\n",
        "            cur=str(root.val)\n",
        "            cur_str=cur_str+cur\n",
        "            if root.right==None and root.left==None:\n",
        "                return int(cur_str,2)\n",
        "            return root_to_leaf(root.left,cur_str)+root_to_leaf(root.right,cur_str)\n",
        "        return root_to_leaf(root,\"\")\n",
        "        "
      ],
      "metadata": {
        "id": "3edaUbE7U8uD"
      },
      "execution_count": 2,
      "outputs": []
    },
    {
      "cell_type": "code",
      "source": [
        ""
      ],
      "metadata": {
        "id": "1z3YsBwvU85K"
      },
      "execution_count": null,
      "outputs": []
    },
    {
      "cell_type": "code",
      "source": [
        ""
      ],
      "metadata": {
        "id": "Z029_p4eU8_F"
      },
      "execution_count": null,
      "outputs": []
    },
    {
      "cell_type": "code",
      "source": [
        ""
      ],
      "metadata": {
        "id": "JnJ3iNp1U9Gv"
      },
      "execution_count": null,
      "outputs": []
    }
  ]
}