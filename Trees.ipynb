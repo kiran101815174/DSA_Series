{
  "nbformat": 4,
  "nbformat_minor": 0,
  "metadata": {
    "colab": {
      "name": "Trees.ipynb",
      "provenance": [],
      "authorship_tag": "ABX9TyPB4BCX2mvI0qswposTXh0D",
      "include_colab_link": true
    },
    "kernelspec": {
      "name": "python3",
      "display_name": "Python 3"
    },
    "language_info": {
      "name": "python"
    }
  },
  "cells": [
    {
      "cell_type": "markdown",
      "metadata": {
        "id": "view-in-github",
        "colab_type": "text"
      },
      "source": [
        "<a href=\"https://colab.research.google.com/github/kiran101815174/DSA_Series/blob/main/Trees.ipynb\" target=\"_parent\"><img src=\"https://colab.research.google.com/assets/colab-badge.svg\" alt=\"Open In Colab\"/></a>"
      ]
    },
    {
      "cell_type": "markdown",
      "source": [
        "## 1) Binary Tree"
      ],
      "metadata": {
        "id": "Dz_6Lw1dUXTo"
      }
    },
    {
      "cell_type": "code",
      "execution_count": 3,
      "metadata": {
        "id": "O7eqZPS-SYH7"
      },
      "outputs": [],
      "source": [
        "class BinaryTreeNode:\n",
        "\n",
        "  def __init__(self, data):\n",
        "    self.data = data #root node\n",
        "    self.left = None #left child\n",
        "    self.right = None #right child\n",
        "  #set data\n",
        "  def setData(self, data):\n",
        "    self.data = data\n",
        "  #get data \n",
        "  def getData(self):\n",
        "    return self.data\n",
        "  #get left child of a node\n",
        "  def getLeft(self):\n",
        "    return self.left\n",
        "  #get right child of a node\n",
        "  def getRight(self):\n",
        "    return self.right\n",
        "\n",
        "class BinaryTree:\n",
        "  def __init__(self,root=None):\n",
        "    self.root=None"
      ]
    },
    {
      "cell_type": "markdown",
      "source": [
        "##2) Traversal Methods\n",
        "  \n",
        "\n",
        "*   Pre-order Traversal\n",
        "*   In-order Traversal  \n",
        "*   Post-order Traversal\n",
        "\n",
        "\n",
        "\n"
      ],
      "metadata": {
        "id": "HdoAcCCCV0Ir"
      }
    },
    {
      "cell_type": "code",
      "source": [
        "class BinaryTree:\n",
        "  def __init__(self,root=None):\n",
        "    self.root=root\n",
        "  def preOrder(self,root):\n",
        "    if root==None:\n",
        "      return\n",
        "    print(root.data,sep=\"-->\",end=\"-->\")\n",
        "    self.preOrder(root.left)\n",
        "    self.preOrder(root.right)\n",
        "\n",
        "b1 =BinaryTreeNode(1)\n",
        "b2 =BinaryTreeNode(2)\n",
        "b3 =BinaryTreeNode(3)\n",
        "b4 =BinaryTreeNode(4)\n",
        "b5 =BinaryTreeNode(5)\n",
        "b6 =BinaryTreeNode(6)\n",
        "b7 =BinaryTreeNode(7)\n",
        "\n",
        "b1.left=b2\n",
        "b1.right =b3\n",
        "\n",
        "b2.left = b4\n",
        "b2.right = b5\n",
        "\n",
        "b3.left=b6\n",
        "b3.right =b7\n",
        "\n",
        "B = BinaryTree(b1)\n",
        "B.preOrder(B.root)\n",
        "#print(B.root.data)"
      ],
      "metadata": {
        "colab": {
          "base_uri": "https://localhost:8080/"
        },
        "id": "r_r1YthjU7fq",
        "outputId": "e29b0239-91a5-4dcf-fa53-914b66ea913a"
      },
      "execution_count": 7,
      "outputs": [
        {
          "output_type": "stream",
          "name": "stdout",
          "text": [
            "1-->2-->4-->5-->3-->6-->7-->"
          ]
        }
      ]
    },
    {
      "cell_type": "code",
      "source": [
        ""
      ],
      "metadata": {
        "id": "a0jqY0ZHU8MD"
      },
      "execution_count": null,
      "outputs": []
    },
    {
      "cell_type": "code",
      "source": [
        ""
      ],
      "metadata": {
        "id": "j304EtOCU8nM"
      },
      "execution_count": null,
      "outputs": []
    },
    {
      "cell_type": "code",
      "source": [
        ""
      ],
      "metadata": {
        "id": "3edaUbE7U8uD"
      },
      "execution_count": null,
      "outputs": []
    },
    {
      "cell_type": "code",
      "source": [
        ""
      ],
      "metadata": {
        "id": "1z3YsBwvU85K"
      },
      "execution_count": null,
      "outputs": []
    },
    {
      "cell_type": "code",
      "source": [
        ""
      ],
      "metadata": {
        "id": "Z029_p4eU8_F"
      },
      "execution_count": null,
      "outputs": []
    },
    {
      "cell_type": "code",
      "source": [
        ""
      ],
      "metadata": {
        "id": "JnJ3iNp1U9Gv"
      },
      "execution_count": null,
      "outputs": []
    }
  ]
}