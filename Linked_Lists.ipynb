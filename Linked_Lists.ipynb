{
  "nbformat": 4,
  "nbformat_minor": 0,
  "metadata": {
    "colab": {
      "name": "Linked_Lists.ipynb",
      "provenance": [],
      "authorship_tag": "ABX9TyMse/XpY98VrJ1vnqeB70a2",
      "include_colab_link": true
    },
    "kernelspec": {
      "name": "python3",
      "display_name": "Python 3"
    },
    "language_info": {
      "name": "python"
    }
  },
  "cells": [
    {
      "cell_type": "markdown",
      "metadata": {
        "id": "view-in-github",
        "colab_type": "text"
      },
      "source": [
        "<a href=\"https://colab.research.google.com/github/kiran101815174/DSA_Series/blob/main/Linked_Lists.ipynb\" target=\"_parent\"><img src=\"https://colab.research.google.com/assets/colab-badge.svg\" alt=\"Open In Colab\"/></a>"
      ]
    },
    {
      "cell_type": "markdown",
      "source": [
        "## Introduction\n",
        "A linked list is a linear dynamic data structure. The number of nodes in a list is not fixed and can grow and shrink on demand. Each node of \n",
        "a linked list is made up of two items - the data and a reference to the next node. The last node has a reference to null. The entry point into a \n",
        "linked list is called the head of the list. It should be noted that head is not a separate node, but the reference to the first node. If the list is \n",
        "empty then the head is a null reference\n",
        " Successive elements are connected by pointers\n",
        " The last element points to None\n",
        " Can grow or shrink in size during execution of a program\n",
        " Can be made just as long as required (until systems memory exhausts)\n",
        " Does not waste memory space (but takes some extra memory for pointers). It allocates memory as list grows."
      ],
      "metadata": {
        "id": "CnSkA_DMxd74"
      }
    },
    {
      "cell_type": "markdown",
      "source": [
        "## 1) Define basic blocks of linked list "
      ],
      "metadata": {
        "id": "mf_aXTfo2Wa9"
      }
    },
    {
      "cell_type": "code",
      "execution_count": 3,
      "metadata": {
        "id": "qcpn-g9bv8nw",
        "colab": {
          "base_uri": "https://localhost:8080/"
        },
        "outputId": "6c84ff2e-32a5-409e-f2d5-80eaf546b128"
      },
      "outputs": [
        {
          "output_type": "stream",
          "name": "stdout",
          "text": [
            "1->2->3->4\n"
          ]
        }
      ],
      "source": [
        "\n",
        "class Node:\n",
        " #constructor\n",
        " def __init__(self, data = None, next = None):\n",
        "  self.data = data\n",
        "  self.next = next\n",
        " #method for setting the data field of the node \n",
        " def setData(self,data):\n",
        "  self.data = data\n",
        " #method for getting the data field of the node \n",
        " def getData(self):\n",
        "  return self.data\n",
        " #method for setting the next field of the node\n",
        " def setNext(self,next):\n",
        "  self.next = next\n",
        " #method for getting the next field of the node \n",
        " def getNext(self):\n",
        "  return self.next\n",
        "\n",
        "\n",
        "\n",
        "# class for defining a linked list \n",
        "class LinkedList(object):\n",
        " # initializing a list\n",
        "  def __init__(self, node = None):\n",
        "    self.length = 0\n",
        "    self.head = node\n",
        "  \n",
        "  def print_ll(self):\n",
        "    current = self.head\n",
        "\n",
        "    while current.next !=None:\n",
        "      print(f'{current.data}->',end='')\n",
        "      current = current.next\n",
        "    print(current.data)\n",
        "\n",
        "\n",
        "node1 = Node(1)\n",
        "node2 = Node(2)\n",
        "node3= Node(3)\n",
        "node4 =Node(4)\n",
        "\n",
        "node1.next=node2\n",
        "node2.next=node3\n",
        "node3.next =node4 \n",
        "\n",
        "LL = LinkedList(node1)\n",
        "LL.print_ll()\n"
      ]
    }
  ]
}