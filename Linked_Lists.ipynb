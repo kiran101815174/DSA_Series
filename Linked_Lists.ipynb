{
  "nbformat": 4,
  "nbformat_minor": 0,
  "metadata": {
    "colab": {
      "name": "Linked_Lists.ipynb",
      "provenance": [],
      "authorship_tag": "ABX9TyO53JR6zjjbsbVti+4/sGlm",
      "include_colab_link": true
    },
    "kernelspec": {
      "name": "python3",
      "display_name": "Python 3"
    },
    "language_info": {
      "name": "python"
    }
  },
  "cells": [
    {
      "cell_type": "markdown",
      "metadata": {
        "id": "view-in-github",
        "colab_type": "text"
      },
      "source": [
        "<a href=\"https://colab.research.google.com/github/kiran101815174/DSA_Series/blob/main/Linked_Lists.ipynb\" target=\"_parent\"><img src=\"https://colab.research.google.com/assets/colab-badge.svg\" alt=\"Open In Colab\"/></a>"
      ]
    },
    {
      "cell_type": "markdown",
      "source": [
        "## Introduction\n",
        "A linked list is a linear dynamic data structure. The number of nodes in a list is not fixed and can grow and shrink on demand. Each node of \n",
        "a linked list is made up of two items - the data and a reference to the next node. The last node has a reference to null. The entry point into a \n",
        "linked list is called the head of the list. It should be noted that head is not a separate node, but the reference to the first node. If the list is \n",
        "empty then the head is a null reference\n",
        " Successive elements are connected by pointers\n",
        " The last element points to None\n",
        " Can grow or shrink in size during execution of a program\n",
        " Can be made just as long as required (until systems memory exhausts)\n",
        " Does not waste memory space (but takes some extra memory for pointers). It allocates memory as list grows."
      ],
      "metadata": {
        "id": "CnSkA_DMxd74"
      }
    },
    {
      "cell_type": "markdown",
      "source": [
        "## 1) Define basic blocks of linked list "
      ],
      "metadata": {
        "id": "mf_aXTfo2Wa9"
      }
    },
    {
      "cell_type": "code",
      "execution_count": 27,
      "metadata": {
        "id": "qcpn-g9bv8nw",
        "colab": {
          "base_uri": "https://localhost:8080/"
        },
        "outputId": "05b6c9e0-53f3-436e-81ab-32782a987140"
      },
      "outputs": [
        {
          "output_type": "stream",
          "name": "stdout",
          "text": [
            "1->2->3->4->5\n",
            "5\n"
          ]
        }
      ],
      "source": [
        "\n",
        "class Node:\n",
        " #constructor\n",
        " def __init__(self, data = None, next = None):\n",
        "  self.data = data\n",
        "  self.next = next\n",
        " #method for setting the data field of the node \n",
        " def setData(self,data):\n",
        "  self.data = data\n",
        " #method for getting the data field of the node \n",
        " def getData(self):\n",
        "  return self.data\n",
        " #method for setting the next field of the node\n",
        " def setNext(self,next):\n",
        "  self.next = next\n",
        " #method for getting the next field of the node \n",
        " def getNext(self):\n",
        "  return self.next\n",
        "\n",
        "\n",
        "\n",
        "# class for defining a linked list \n",
        "class LinkedList(object):\n",
        "\n",
        "  # initializing a list\n",
        "  def __init__(self, node = None):\n",
        "    self.length = 0\n",
        "    self.head = node\n",
        "  \n",
        "  def print_ll(self):\n",
        "    current = self.head\n",
        "\n",
        "    while current.next !=None:\n",
        "      print(f'{current.data}->',end='')\n",
        "      current = current.next\n",
        "    print(current.data)\n",
        "  \n",
        "  def get_length(self):\n",
        "    current =self.head\n",
        "    count =1\n",
        "    while current.next !=None:\n",
        "      count+=1\n",
        "      current=current.next\n",
        "    return count\n",
        "      \n",
        "node1 = Node(1)\n",
        "node2 = Node(2)\n",
        "node3= Node(3)\n",
        "node4 =Node(4)\n",
        "node5=Node(5)\n",
        "\n",
        "node1.next=node2\n",
        "node2.next=node3\n",
        "node3.next =node4 \n",
        "node4.next=node5\n",
        "\n",
        "LL = LinkedList(node1)\n",
        "LL.print_ll()\n",
        "print(LL.get_length())\n"
      ]
    },
    {
      "cell_type": "markdown",
      "source": [
        "## 2 Insertion in Linked Lists\n",
        "<b>2.1) Insertion at beginning"
      ],
      "metadata": {
        "id": "sbodSLI7uX7o"
      }
    },
    {
      "cell_type": "code",
      "source": [
        "def insert_first(LL,data):\n",
        "  first_node = Node(data)\n",
        "  first_node.next=LL.head\n",
        "  LL.head= first_node\n",
        "\n",
        "  LL.print_ll()\n",
        "\n",
        "insert_first(LL,6)"
      ],
      "metadata": {
        "colab": {
          "base_uri": "https://localhost:8080/"
        },
        "id": "IiXy-ou7uXOz",
        "outputId": "eb707d7f-717c-4069-c1d3-e50b42087e5e"
      },
      "execution_count": 9,
      "outputs": [
        {
          "output_type": "stream",
          "name": "stdout",
          "text": [
            "6->1->2->3->4->5\n"
          ]
        }
      ]
    },
    {
      "cell_type": "markdown",
      "source": [
        "<b>2.2) Insert at the end"
      ],
      "metadata": {
        "id": "ofw0cJQ5v7DL"
      }
    },
    {
      "cell_type": "code",
      "source": [
        "def insert_end(LL,data):\n",
        "  end_node = Node(data)\n",
        "  current = LL.head\n",
        "  while current.next !=None:\n",
        "    current =current.next\n",
        "  current.next= end_node\n",
        "  LL.print_ll()\n",
        "\n",
        "insert_end(LL,7)"
      ],
      "metadata": {
        "colab": {
          "base_uri": "https://localhost:8080/"
        },
        "id": "JCJ0DCp4uXKP",
        "outputId": "0cdafa5d-9860-4716-b304-13052aface2b"
      },
      "execution_count": 10,
      "outputs": [
        {
          "output_type": "stream",
          "name": "stdout",
          "text": [
            "6->1->2->3->4->5->7\n"
          ]
        }
      ]
    },
    {
      "cell_type": "markdown",
      "source": [
        "<b>2.3) Insert at Middle"
      ],
      "metadata": {
        "id": "c-Oateb4wgcS"
      }
    },
    {
      "cell_type": "code",
      "source": [
        "def insert_middle(LL,pos,data):\n",
        "  #after insertion the new data will be at position =pos\n",
        "  #so we insert after pos-1\n",
        "  middle_node = Node(data)\n",
        "  current =LL.head\n",
        "  count =1\n",
        "  while count != pos-1:\n",
        "    current=current.next\n",
        "    count +=1\n",
        "  temp= current.next\n",
        "  current.next= middle_node\n",
        "  middle_node.next=temp\n",
        "\n",
        "  LL.print_ll()\n",
        "\n",
        "insert_middle(LL,4,8)\n"
      ],
      "metadata": {
        "colab": {
          "base_uri": "https://localhost:8080/"
        },
        "id": "gWL0GO_puXIm",
        "outputId": "143ca750-ddce-4324-a17e-690147e8cd6c"
      },
      "execution_count": 11,
      "outputs": [
        {
          "output_type": "stream",
          "name": "stdout",
          "text": [
            "6->1->2->8->3->4->5->7\n"
          ]
        }
      ]
    },
    {
      "cell_type": "markdown",
      "source": [
        "##  3) Deletion in Linked Lists\n",
        "\n",
        "<b>3.1) Delete at first"
      ],
      "metadata": {
        "id": "-ipUMCYPx8wn"
      }
    },
    {
      "cell_type": "code",
      "source": [
        "def delete_first(LL):\n",
        "  first = LL.head\n",
        "  successor_node = first.next\n",
        "  LL.head= successor_node\n",
        "\n",
        "  LL.print_ll()\n",
        "\n",
        "delete_first(LL)"
      ],
      "metadata": {
        "colab": {
          "base_uri": "https://localhost:8080/"
        },
        "id": "ZQ_IFsV9uXEA",
        "outputId": "00ae9a40-7b0f-4ba0-c833-09a8574c3054"
      },
      "execution_count": 12,
      "outputs": [
        {
          "output_type": "stream",
          "name": "stdout",
          "text": [
            "1->2->8->3->4->5->7\n"
          ]
        }
      ]
    },
    {
      "cell_type": "markdown",
      "source": [
        "<b>3.2) Delete at end"
      ],
      "metadata": {
        "id": "6neAG5lTyxbd"
      }
    },
    {
      "cell_type": "code",
      "source": [
        "def delete_last(LL):\n",
        "  current=LL.head\n",
        "  while current.next !=None:\n",
        "    previous_node =current\n",
        "    current =current.next\n",
        "  previous_node.next =None\n",
        "  LL.print_ll()\n",
        "\n",
        "delete_last(LL)"
      ],
      "metadata": {
        "colab": {
          "base_uri": "https://localhost:8080/"
        },
        "id": "bzf6ngCLuXCe",
        "outputId": "68b5a55d-fd86-4c97-cf2e-ded735cf0394"
      },
      "execution_count": 14,
      "outputs": [
        {
          "output_type": "stream",
          "name": "stdout",
          "text": [
            "1->2->8->3->4->5\n"
          ]
        }
      ]
    },
    {
      "cell_type": "markdown",
      "source": [
        "<b> 3.3) Delete at Middle"
      ],
      "metadata": {
        "id": "QiT-p9kn0bG9"
      }
    },
    {
      "cell_type": "code",
      "source": [
        "def delete_middle(LL,pos):\n",
        "  current =LL.head\n",
        "  count =1\n",
        "  while count != pos:\n",
        "    previous = current\n",
        "    current =current.next\n",
        "    count +=1\n",
        "  next_node =current.next\n",
        "  previous.next =next_node\n",
        "  LL.print_ll()\n",
        "\n",
        "LL.print_ll()\n",
        "delete_middle(LL,3)\n",
        "  "
      ],
      "metadata": {
        "colab": {
          "base_uri": "https://localhost:8080/"
        },
        "id": "lHip-UBtuW6e",
        "outputId": "283ab57c-adb9-4a2d-d590-606811c31e24"
      },
      "execution_count": 17,
      "outputs": [
        {
          "output_type": "stream",
          "name": "stdout",
          "text": [
            "1->2->8->3->4->5\n",
            "1->2->3->4->5\n"
          ]
        }
      ]
    },
    {
      "cell_type": "markdown",
      "source": [
        "## 4) Reverse a linked list"
      ],
      "metadata": {
        "id": "6XtgptYL4IMA"
      }
    },
    {
      "cell_type": "code",
      "source": [
        "# class for defining a linked list \n",
        "class LinkedList(object):\n",
        "\n",
        "  # initializing a list\n",
        "  def __init__(self, node = None):\n",
        "    self.length = 0\n",
        "    self.head = node\n",
        "  \n",
        "  def print_ll(self):\n",
        "    current = self.head\n",
        "\n",
        "    while current.next !=None:\n",
        "      print(f'{current.data}->',end='')\n",
        "      current = current.next\n",
        "    print(current.data)\n",
        "  \n",
        "  def get_length(self):\n",
        "    current =self.head\n",
        "    count =1\n",
        "    while current.next !=None:\n",
        "      count+=1\n",
        "      current=current.next\n",
        "    return count\n",
        "      \n",
        "\n",
        "  def reverse_ll(self):\n",
        "    prev=None\n",
        "    current=self.head\n",
        "\n",
        "    while current !=None:\n",
        "      next=current.next\n",
        "      current.next=prev\n",
        "      prev=current\n",
        "      current=next\n",
        "    self.head=prev\n",
        "\n",
        "\n",
        "#Initializing Node\n",
        "node1 = Node(1)\n",
        "node2 = Node(2)\n",
        "node3= Node(3)\n",
        "node4 =Node(4)\n",
        "node5=Node(5)\n",
        "\n",
        "node1.next=node2\n",
        "node2.next=node3\n",
        "node3.next =node4 \n",
        "node4.next=node5\n",
        "\n",
        "LL = LinkedList(node1)\n",
        "print(\"Before reversing\")\n",
        "LL.print_ll()\n",
        "\n",
        "print(\"After reversing\")\n",
        "LL.reverse_ll()\n",
        "LL.print_ll()\n"
      ],
      "metadata": {
        "colab": {
          "base_uri": "https://localhost:8080/"
        },
        "id": "r2p1sXzZ3D69",
        "outputId": "60a2b712-5cab-41e5-93d6-5634e2a6e2bc"
      },
      "execution_count": 33,
      "outputs": [
        {
          "output_type": "stream",
          "name": "stdout",
          "text": [
            "Before reversing\n",
            "1->2->3->4->5\n",
            "After reversing\n",
            "5->4->3->2->1\n"
          ]
        }
      ]
    },
    {
      "cell_type": "code",
      "source": [
        ""
      ],
      "metadata": {
        "id": "8o4zS7WZ3D0P"
      },
      "execution_count": null,
      "outputs": []
    },
    {
      "cell_type": "code",
      "source": [
        ""
      ],
      "metadata": {
        "id": "LnootN_I3Dvp"
      },
      "execution_count": null,
      "outputs": []
    },
    {
      "cell_type": "code",
      "source": [
        ""
      ],
      "metadata": {
        "id": "lHKU0isI3DuJ"
      },
      "execution_count": null,
      "outputs": []
    },
    {
      "cell_type": "code",
      "source": [
        ""
      ],
      "metadata": {
        "id": "GNr7vxVV3DpK"
      },
      "execution_count": null,
      "outputs": []
    }
  ]
}