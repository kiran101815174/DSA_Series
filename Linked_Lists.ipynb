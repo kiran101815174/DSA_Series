{
  "nbformat": 4,
  "nbformat_minor": 0,
  "metadata": {
    "colab": {
      "name": "Linked_Lists.ipynb",
      "provenance": [],
      "authorship_tag": "ABX9TyOu0k5hfzSuBjxRZST4r21x",
      "include_colab_link": true
    },
    "kernelspec": {
      "name": "python3",
      "display_name": "Python 3"
    },
    "language_info": {
      "name": "python"
    }
  },
  "cells": [
    {
      "cell_type": "markdown",
      "metadata": {
        "id": "view-in-github",
        "colab_type": "text"
      },
      "source": [
        "<a href=\"https://colab.research.google.com/github/kiran101815174/DSA_Series/blob/main/Linked_Lists.ipynb\" target=\"_parent\"><img src=\"https://colab.research.google.com/assets/colab-badge.svg\" alt=\"Open In Colab\"/></a>"
      ]
    },
    {
      "cell_type": "markdown",
      "source": [
        "## Introduction\n",
        "A linked list is a linear dynamic data structure. The number of nodes in a list is not fixed and can grow and shrink on demand. Each node of \n",
        "a linked list is made up of two items - the data and a reference to the next node. The last node has a reference to null. The entry point into a \n",
        "linked list is called the head of the list. It should be noted that head is not a separate node, but the reference to the first node. If the list is \n",
        "empty then the head is a null reference\n",
        " Successive elements are connected by pointers\n",
        " The last element points to None\n",
        " Can grow or shrink in size during execution of a program\n",
        " Can be made just as long as required (until systems memory exhausts)\n",
        " Does not waste memory space (but takes some extra memory for pointers). It allocates memory as list grows."
      ],
      "metadata": {
        "id": "CnSkA_DMxd74"
      }
    },
    {
      "cell_type": "markdown",
      "source": [
        "## 1) Define basic blocks of linked list "
      ],
      "metadata": {
        "id": "mf_aXTfo2Wa9"
      }
    },
    {
      "cell_type": "code",
      "execution_count": null,
      "metadata": {
        "id": "qcpn-g9bv8nw",
        "colab": {
          "base_uri": "https://localhost:8080/"
        },
        "outputId": "e768cb98-399f-4914-fd8b-f3e03c5f202c"
      },
      "outputs": [
        {
          "output_type": "stream",
          "name": "stdout",
          "text": [
            "1->2->3->4->5\n",
            "5\n"
          ]
        }
      ],
      "source": [
        "\n",
        "class Node:\n",
        " #constructor\n",
        " def __init__(self, data = None, next = None):\n",
        "  self.data = data\n",
        "  self.next = next\n",
        " #method for setting the data field of the node \n",
        " def setData(self,data):\n",
        "  self.data = data\n",
        " #method for getting the data field of the node \n",
        " def getData(self):\n",
        "  return self.data\n",
        " #method for setting the next field of the node\n",
        " def setNext(self,next):\n",
        "  self.next = next\n",
        " #method for getting the next field of the node \n",
        " def getNext(self):\n",
        "  return self.next\n",
        "\n",
        "\n",
        "\n",
        "# class for defining a linked list \n",
        "class LinkedList(object):\n",
        "\n",
        "  # initializing a list\n",
        "  def __init__(self, node = None):\n",
        "    self.length = 0\n",
        "    self.head = node\n",
        "  \n",
        "  def print_ll(self):\n",
        "    current = self.head\n",
        "\n",
        "    while current.next !=None:\n",
        "      print(f'{current.data}->',end='')\n",
        "      current = current.next\n",
        "    print(current.data)\n",
        "  \n",
        "  def get_length(self):\n",
        "    current =self.head\n",
        "    count =1\n",
        "    while current.next !=None:\n",
        "      count+=1\n",
        "      current=current.next\n",
        "    return count\n",
        "      \n",
        "node1 = Node(1)\n",
        "node2 = Node(2)\n",
        "node3= Node(3)\n",
        "node4 =Node(4)\n",
        "node5=Node(5)\n",
        "\n",
        "node1.next=node2\n",
        "node2.next=node3\n",
        "node3.next =node4 \n",
        "node4.next=node5\n",
        "\n",
        "LL = LinkedList(node1)\n",
        "LL.print_ll()\n",
        "print(LL.get_length())\n"
      ]
    },
    {
      "cell_type": "markdown",
      "source": [
        "## 2 Insertion in Linked Lists\n",
        "<b>2.1) Insertion at beginning"
      ],
      "metadata": {
        "id": "sbodSLI7uX7o"
      }
    },
    {
      "cell_type": "code",
      "source": [
        "def insert_first(LL,data):\n",
        "  first_node = Node(data)\n",
        "  first_node.next=LL.head\n",
        "  LL.head= first_node\n",
        "\n",
        "  LL.print_ll()\n",
        "\n",
        "insert_first(LL,6)"
      ],
      "metadata": {
        "colab": {
          "base_uri": "https://localhost:8080/"
        },
        "id": "IiXy-ou7uXOz",
        "outputId": "eb707d7f-717c-4069-c1d3-e50b42087e5e"
      },
      "execution_count": null,
      "outputs": [
        {
          "output_type": "stream",
          "name": "stdout",
          "text": [
            "6->1->2->3->4->5\n"
          ]
        }
      ]
    },
    {
      "cell_type": "markdown",
      "source": [
        "<b>2.2) Insert at the end"
      ],
      "metadata": {
        "id": "ofw0cJQ5v7DL"
      }
    },
    {
      "cell_type": "code",
      "source": [
        "def insert_end(LL,data):\n",
        "  end_node = Node(data)\n",
        "  current = LL.head\n",
        "  while current.next !=None:\n",
        "    current =current.next\n",
        "  current.next= end_node\n",
        "  LL.print_ll()\n",
        "\n",
        "insert_end(LL,7)"
      ],
      "metadata": {
        "colab": {
          "base_uri": "https://localhost:8080/"
        },
        "id": "JCJ0DCp4uXKP",
        "outputId": "0cdafa5d-9860-4716-b304-13052aface2b"
      },
      "execution_count": null,
      "outputs": [
        {
          "output_type": "stream",
          "name": "stdout",
          "text": [
            "6->1->2->3->4->5->7\n"
          ]
        }
      ]
    },
    {
      "cell_type": "markdown",
      "source": [
        "<b>2.3) Insert at Middle"
      ],
      "metadata": {
        "id": "c-Oateb4wgcS"
      }
    },
    {
      "cell_type": "code",
      "source": [
        "def insert_middle(LL,pos,data):\n",
        "  #after insertion the new data will be at position =pos\n",
        "  #so we insert after pos-1\n",
        "  middle_node = Node(data)\n",
        "  current =LL.head\n",
        "  count =1\n",
        "  while count != pos-1:\n",
        "    current=current.next\n",
        "    count +=1\n",
        "  temp= current.next\n",
        "  current.next= middle_node\n",
        "  middle_node.next=temp\n",
        "\n",
        "  LL.print_ll()\n",
        "\n",
        "insert_middle(LL,4,8)\n"
      ],
      "metadata": {
        "colab": {
          "base_uri": "https://localhost:8080/"
        },
        "id": "gWL0GO_puXIm",
        "outputId": "143ca750-ddce-4324-a17e-690147e8cd6c"
      },
      "execution_count": null,
      "outputs": [
        {
          "output_type": "stream",
          "name": "stdout",
          "text": [
            "6->1->2->8->3->4->5->7\n"
          ]
        }
      ]
    },
    {
      "cell_type": "markdown",
      "source": [
        "##  3) Deletion in Linked Lists\n",
        "\n",
        "<b>3.1) Delete at first"
      ],
      "metadata": {
        "id": "-ipUMCYPx8wn"
      }
    },
    {
      "cell_type": "code",
      "source": [
        "def delete_first(LL):\n",
        "  first = LL.head\n",
        "  successor_node = first.next\n",
        "  LL.head= successor_node\n",
        "\n",
        "  LL.print_ll()\n",
        "\n",
        "delete_first(LL)"
      ],
      "metadata": {
        "colab": {
          "base_uri": "https://localhost:8080/"
        },
        "id": "ZQ_IFsV9uXEA",
        "outputId": "00ae9a40-7b0f-4ba0-c833-09a8574c3054"
      },
      "execution_count": null,
      "outputs": [
        {
          "output_type": "stream",
          "name": "stdout",
          "text": [
            "1->2->8->3->4->5->7\n"
          ]
        }
      ]
    },
    {
      "cell_type": "markdown",
      "source": [
        "<b>3.2) Delete at end"
      ],
      "metadata": {
        "id": "6neAG5lTyxbd"
      }
    },
    {
      "cell_type": "code",
      "source": [
        "def delete_last(LL):\n",
        "  current=LL.head\n",
        "  while current.next !=None:\n",
        "    previous_node =current\n",
        "    current =current.next\n",
        "  previous_node.next =None\n",
        "  LL.print_ll()\n",
        "\n",
        "delete_last(LL)"
      ],
      "metadata": {
        "colab": {
          "base_uri": "https://localhost:8080/"
        },
        "id": "bzf6ngCLuXCe",
        "outputId": "68b5a55d-fd86-4c97-cf2e-ded735cf0394"
      },
      "execution_count": null,
      "outputs": [
        {
          "output_type": "stream",
          "name": "stdout",
          "text": [
            "1->2->8->3->4->5\n"
          ]
        }
      ]
    },
    {
      "cell_type": "markdown",
      "source": [
        "<b> 3.3) Delete at Middle"
      ],
      "metadata": {
        "id": "QiT-p9kn0bG9"
      }
    },
    {
      "cell_type": "code",
      "source": [
        "def delete_middle(LL,pos):\n",
        "  current =LL.head\n",
        "  count =1\n",
        "  while count != pos:\n",
        "    previous = current\n",
        "    current =current.next\n",
        "    count +=1\n",
        "  next_node =current.next\n",
        "  previous.next =next_node\n",
        "  LL.print_ll()\n",
        "\n",
        "LL.print_ll()\n",
        "delete_middle(LL,3)\n",
        "  "
      ],
      "metadata": {
        "colab": {
          "base_uri": "https://localhost:8080/"
        },
        "id": "lHip-UBtuW6e",
        "outputId": "283ab57c-adb9-4a2d-d590-606811c31e24"
      },
      "execution_count": null,
      "outputs": [
        {
          "output_type": "stream",
          "name": "stdout",
          "text": [
            "1->2->8->3->4->5\n",
            "1->2->3->4->5\n"
          ]
        }
      ]
    },
    {
      "cell_type": "markdown",
      "source": [
        "## 4) Reverse a linked list"
      ],
      "metadata": {
        "id": "6XtgptYL4IMA"
      }
    },
    {
      "cell_type": "code",
      "source": [
        "# class for defining a linked list \n",
        "class LinkedList(object):\n",
        "\n",
        "  # initializing a list\n",
        "  def __init__(self, node = None):\n",
        "    self.length = 0\n",
        "    self.head = node\n",
        "  \n",
        "  def print_ll(self):\n",
        "    current = self.head\n",
        "\n",
        "    while current.next !=None:\n",
        "      print(f'{current.data}->',end='')\n",
        "      current = current.next\n",
        "    print(current.data)\n",
        "  \n",
        "  def get_length(self):\n",
        "    current =self.head\n",
        "    count =1\n",
        "    while current.next !=None:\n",
        "      count+=1\n",
        "      current=current.next\n",
        "    return count\n",
        "      \n",
        "\n",
        "  def reverse_ll(self):\n",
        "    prev=None\n",
        "    current=self.head\n",
        "\n",
        "    while current !=None:\n",
        "      next=current.next\n",
        "      current.next=prev\n",
        "      prev=current\n",
        "      current=next\n",
        "    self.head=prev\n",
        "\n",
        "  def reverse_given_k(self,k):\n",
        "    head=self.head\n",
        "\n",
        "    def reverse_between_2(a,b):\n",
        "      prev=None\n",
        "      curr=nex=a\n",
        "      while curr !=b:\n",
        "        nex=curr.next\n",
        "        curr.next=prev\n",
        "        prev=curr\n",
        "        curr=nex\n",
        "      return prev\n",
        "\n",
        "    def reverse_given_k_inner(head,k):\n",
        "      if not head:\n",
        "        return None\n",
        "      a=b=head\n",
        "      for i in range(k):\n",
        "        if not b:\n",
        "          return head\n",
        "        b=b.next\n",
        "      next_head=reverse_between_2(a,b)\n",
        "      a.next=reverse_given_k_inner(b,k)\n",
        "      return next_head\n",
        "    #Run the inner function \n",
        "    self.head = reverse_given_k_inner(head,k)\n",
        "\n",
        "      \n",
        "\n",
        "\n",
        "\n",
        "#Initializing Node\n",
        "node1 = Node(1)\n",
        "node2 = Node(2)\n",
        "node3= Node(3)\n",
        "node4 =Node(4)\n",
        "node5=Node(5)\n",
        "node6 = Node(6)\n",
        "node7= Node(7)\n",
        "node8 = Node(8)\n",
        "\n",
        "node1.next=node2\n",
        "node2.next=node3\n",
        "node3.next =node4 \n",
        "node4.next=node5\n",
        "node5.next=node6\n",
        "node6.next=node7\n",
        "node7.next=node8\n",
        "\n",
        "LL = LinkedList(node1)\n",
        "print(\"Before reversing\")\n",
        "LL.print_ll()\n",
        "\n",
        "print(\"after reversing for every k nodes\")\n",
        "LL.reverse_given_k(3)\n",
        "LL.print_ll()\n"
      ],
      "metadata": {
        "colab": {
          "base_uri": "https://localhost:8080/"
        },
        "id": "r2p1sXzZ3D69",
        "outputId": "a2532e60-6c1a-4238-e303-cfcf0c8d9df0"
      },
      "execution_count": null,
      "outputs": [
        {
          "output_type": "stream",
          "name": "stdout",
          "text": [
            "Before reversing\n",
            "1->2->3->4->5->6->7->8\n",
            "after reversing for every k nodes\n",
            "3->2->1->6->5->4->7->8\n"
          ]
        }
      ]
    },
    {
      "cell_type": "markdown",
      "source": [
        "5) <b>Partition list:</b> Given a linked list and a value X, partition it such that all nodes less than X come before nodes greater than \n",
        "or equal to X. Notice that, you should preserve the original relative order of the nodes in each of the two partitions. "
      ],
      "metadata": {
        "id": "bJ77IY6DjsoK"
      }
    },
    {
      "cell_type": "code",
      "source": [
        "\n",
        "#temp to store greater than x elements\n",
        "def partition_list(x,LL):\n",
        "  less_x=lesserHead= LinkedList(0)\n",
        "  high_x =greaterHead= LinkedList(0)\n",
        "  current = LL.head\n",
        "  while current:\n",
        "\n",
        "    if current.data <x:\n",
        "      less_x.next = current\n",
        "      less_x =less_x.next\n",
        "    else:\n",
        "      high_x.next=current\n",
        "      high_x=high_x.next\n",
        "\n",
        "    current=current.next\n",
        "  high_x.next=None\n",
        "  less_x.next=greaterHead.next\n",
        "  return lesserHead.next\n",
        "\n",
        "#Initializing Node\n",
        "node1 = Node(2)\n",
        "node2 = Node(5)\n",
        "node3= Node(4)\n",
        "node4 =Node(3)\n",
        "node5=Node(6)\n",
        "node6 = Node(3)\n",
        "\n",
        "#Connections\n",
        "node1.next=node2\n",
        "node2.next=node3\n",
        "node3.next =node4 \n",
        "node4.next=node5\n",
        "node5.next=node6\n",
        "\n",
        "LL = LinkedList(node1)\n",
        "print(\"Before partition\")\n",
        "LL.print_ll()\n",
        "\n",
        "\n",
        "LL_partitioned =LinkedList()\n",
        "LL_partitioned.head = partition_list(4,LL)\n",
        "print(\"After partition \")\n",
        "LL_partitioned.print_ll()\n",
        "\n",
        "\n",
        "    \n"
      ],
      "metadata": {
        "id": "8o4zS7WZ3D0P",
        "colab": {
          "base_uri": "https://localhost:8080/"
        },
        "outputId": "6f8a163e-1b0e-4aa7-c9a5-a433c27af2de"
      },
      "execution_count": null,
      "outputs": [
        {
          "output_type": "stream",
          "name": "stdout",
          "text": [
            "Before partition\n",
            "2->5->4->3->6->3\n",
            "After partition \n",
            "2->3->3->5->4->6\n"
          ]
        }
      ]
    },
    {
      "cell_type": "markdown",
      "source": [
        "##6) Linked List cycles(SLOW & FAST POINTER APPROACH)\n",
        "Given head, the head of a linked list, determine if the linked list has a cycle in it.\n",
        "\n",
        "There is a cycle in a linked list if there is some node in the list that can be reached again by continuously following the next pointer. Internally, pos is used to denote the index of the node that tail's next pointer is connected to. Note that pos is not passed as a parameter.\n",
        "\n",
        "Return true if there is a cycle in the linked list. Otherwise, return false.\n",
        "![circularlinkedlist.png](data:image/png;base64,iVBORw0KGgoAAAANSUhEUgAAAhMAAACrCAYAAADcpR4VAAAgAElEQVR4Xu2dB5QVxRKGawUMSEYBlZwEVHJQ0kGSBFkTigoYEJUkOZlICgioTzIKkhUFlKAkQR45IzlJTpKUqCgS9p2/fHdZYdm9c3funZ6Zv8/pcw0Tur/+d6amuro6KiYmJkYcLKtXr5YNGzbItm3bZPfu3XLo0CE5fvy4nD59Ws6fPy+XL1+WZMmSScqUKSVdunSSKVMmyZo1q+TJk0cKFiwoRYoUkVKlSjnYA946kgSol0jSNvde1IG5Y2Nyy6ib8I1OVKSNiZ9++klmz54t8+fPl8WLF0uhQoWkaNGi+ps3b17Jli2bZM6cWQ0HGBAwJGBQwLCAgXHs2DE5ePCg7Nq1S7Zu3Srr16/X3woVKkjlypWlRo0aUrx48fAR45UjSoB6iShuY29GHRg7NEY3jLqJ3PBExJjYuXOnfPHFFzJx4kQ1DGrVqiVVq1aVihUrSurUqZPc23PnzsmiRYtk3rx5MnPmTDVAnnnmGalfv77ky5cvydfnBSJLgHqJLG9T70YdmDoyZreLunFmfMJqTMADMWzYMFmyZIk0bNhQnn32WSlTpkzYe7py5Ur56quvZNy4cVK+fHlp0qSJeixYzCZAvZg9PpFqHXUQKdLeug914+x4hsWYmDFjhvTr10/OnDkjzZo1k1dffdWxXg4fPlyGDBkiadOmlQ4dOkjt2rUdawtvHD8B6oXKAAHqgDoIhQB1Ewo1+8+x1ZhAIGXXrl1lz5490qlTJ51mMKVgmqVPnz6SO3du6d69uwZusjhLgHpxlr8pd6cOTBkJd7WDujFrvGwzJmBEfPjhh/Lee+9J27ZtzeplnNZ8/PHH8u6770r79u3VqGBxhgD14gx30+5KHZg2Iu5oD3Vj3jgl2ZhAtGyLFi0ke/bsOrWB1RimF6wGwZTHgQMHZNCgQVz9EcEBo14iCNvgW1EHBg+OwU2jbswdnCQZEyNGjNB4iKFDh2qQo9sKgkObNm0qiKto3Lix25rvuvZSL64bsrA0mDoIC1bPX5S6MXuIQzYmOnbsqPkiRo4cKSVLljS7lwm0bs2aNdKoUSNd7dG3b1/X9sP0hlMvpo9QZNpHHUSGs9fuQt2YP6IhGRNY5omVGghqtCNPhNOYkKcCwaJY8YHlpCz2EqBe7OXp1qtRB24dOWfbTd04yz/Yu1s2Jh5//HFJnz69jBo1Kth7uOa4l19+WU6dOiVTp051TZtNbyj1YvoIRaZ91EFkOHvtLtSNe0bUkjGBgc2SJYsmovJqQezH0aNHaVDYMMDUiw0QPXAJ6sADg+hAF6gbB6An4ZZBGxNwNSVPntyTHolr+cFDcenSJU55JEFY1EsS4HnoVOrAQ4MZwa5QNxGEbdOtgjImEPyyfft2mT59uk23Nf8y0dHRUqBAAQZlhjBU1EsI0Dx4CnXgwUGNQJeomwhADsMtEjUmsBxnwIABsnTpUk8EWwbLEEGZ5cqVk5YtW3LZaLDQRIR6oV4gF+qAOrDw2Ig9lLpxr24SNCaQIKREiRKCPeDdvPwzFFHjHCwbLVWqlKxdu5aJrYKASL1QL5AJdUAdBPG4uO4Q6sbduknQmChbtqy88MILrkxIFYqY4zsHwaZjx46VZcuW2XVJz16HehENTva7XqgD6iCUhxx1427d3NCYQO7zHTt26Fbefi/YOv3ee+/lXh4JCIF6uQrHz3qhDqiDUN4X1I37dROvMYHd2GAlIujSDXtthCJeK+dgLw8EY8I7wd1GrydHvfybiV/1Qh1QB1aeq4FjqRtv6CZeYwLreytWrGj07p+hiDYp52C30UWLFjH/RDwQqZfrofhRL9QBdRDKM5a68YZurjMmZsyYIW+++aZs3LgxFF14+pzChQtL7969pXbt2p7up5XOUS83puUnvVAH1IGV50bgWOrGO7q5zpioVKmS7gSKvSpY/k0Ae5Fgh9EFCxYQzf8JUC83loKf9EIdUAehPBSpG+/o5l/GBHYBhVdi3bp1oejCF+cUK1ZMvRPYZdTvhXpJXAF+0At1QB0kTuD6I6ibxKm56fnxL2MCc1dw4cMzwRI/AXgm4JrjZmAi1EvifyV+0At1QB0kTuD6I6ibxKm56fkRa0zs3LlTHnroIfn1118T76HPj7jjjjtk+fLlki9fPt+SoF6CH3ov64U6oA6CJ3D1SOomeGpueX7EGhPdunWTM2fOyH/+85/ge+nTI9u0aSNp06YVMPNroV6CH3kv64U6oA6CJ3D1SOomeGpueX7EGhOFChXSHUHLlCkTfC99euTKlSsFO4tu3brVpwREqJfgh97LeqEOqIPgCVw9kroJnppbnh9qTCAn+nPPPacZL1mCI4CMmBMmTPDlnh3US3AaiXuUF/VCHVAH1gn8s3cL3zfWyLnh+aHGRK9eveTEiROc4rAwvnA93XnnnfLWW29ZOMsbh1Iv1sfRi3qhDqgD6wREqBvr1Nzw/FBjomrVqoLGmpCM6eeff5YPP/xQ5s2bJ4cPH5bkyZNLrly5pFatWtKhQwd9gZtQsKID8SVop9+KSXo5efKk9OvXT6ZPny579uyRqKgoyZEjh+qlU6dOkilTJiOGx4t6MUkHf/75p3z00UcyceJE1cFNN92kKfCxUWGzZs30300oXtSBVa4m6SaxtuP5ct9998nRo0elefPmMmjQoMROCcv/d4Nu1Ji45ZZbdBVH6tSpwwIi2It+99138vTTT8uFCxe0Lfnz55fff/9ddu/eLZcuXZIsWbLIwoUL9b87Xc6dOyeIskVb/VZM0Qv2jsGDCUbnzTffrJuxXb58WWCQBvSyZMkSyZMnj+ND5EW9mKKDs2fPSoUKFTRr76233qpTj9DB2rVrVQePPvqoLuVOliwZdeA4ARFTdBMMigYNGgiSz6E4aUy44fkRtWrVqpjXXnvN8URVv/32m+TOnVvwYHjjjTc0MdTtt9+ug4hlRE888YRs2bJFqlWrJj/88EMwOgj7MUgo8tlnn0mpUqXCfi9TbrB69WoxQS9XrlyRokWLyqZNmwRZ9MaPHy/33HOPYtq1a5fmwIBe4KGAVW9C8ZJeTNEBxrVx48by+eef6+aEU6ZMifVGwUPxyCOPqB6wVwq8ryYUL+nAKk+TdJNY2+HtfOyxx9QbjjAAJ40JtNV03UQNHz48ZunSpbqSw8mCl/Lrr78uDzzwgGAXObir4xYYEHgwwF0Jlya+RJ0uWNFRrlw5fZj5pYwYMUJM0AtSmj/88MP6lXPo0CH1EsUtP/74o3otME0GA/W2225zfIi8pBdTdHDs2DHJmjWrxMTEqAcTU1zx6eDuu+9WnVz7XHFCFF7SgVV+pugmsXafOnVKpzfgeW7VqpVgi3SnjQnTdRPVtm3bGEwfIB7ByYI/dLitM2TIEO8KiX379mnsBAqmPgJeCyfbjLl6zKVhrtYvpV27djrd5LRe4HWA6zplypTxfnHC0xUwMA4cOCDZsmVzfIi8pBdTdICPoEaNGqlhOX/+/HjHGIbEkSNHBEvsSpcuTR04SMAU3SSGoGHDhurtRIVhAW+508aE6c+PqMceeyzmxRdf1GkEkwuWYT7//POadRJz4iYUuFTHjBnjq9TamD5wg16wzBkBeClSpFDPBObSnS5e0ospOsBDHkFxCLb94IMP4h3i6OhoQTzWkCFDpGnTpk7LQKdi/PbcCEA3RTcJiQBagWZQp02bpvoywZgwXTdRJUqUiBk2bJiULFnS8T+y+BqAQCpAxBQIMnROnjxZ58NNKGvWrJEmTZoIfr1SEA8BT8uNgnGhE5P1EhiHzp07S58+feSpp55SzZhQ3KQXt+gAMTGzZs2SwYMH66qN+EqLFi30/+OrGCvFnC5u0oFVVm7RzY36FXd6A95PeGFNMSZM101UtmzZNGbCBDdw3AGuUqWKLvH65ZdfdD4U/46cDojaNqUcPHhQYybgRvdKQWwBDDg8eMH7WqMie/bsGjNhml7i8seKHwTqwiuBHXBNWP2D9rlJL27RAf7+li1bpu7o+vXrx/tn+Pbbb2tug1deeUUwZ+90cZMOrLJyi25u1K/A9Ma4ceMEKzlQTDEmTNdNVOrUqWOwtM7pZaHXDm7OnDll//79+p8h0PLly8tLL72kUx2mFCzXwQoCuNG9Uvr37y/4qsdqCQSrIQI+rlGRJk0aXYppml4C/BGoW7duXfnjjz/kq6++0qXGphQ36cUtOihRooRmVER+iRuNdY8ePTSADsYGjA6ni5t0YJWVW3QTX7++//57qVOnjlas5AgUU4wJ03UTlSxZshhErJqwBvvaAf7777/1a27OnDn6ZYGXGNxon376qVWNh+V4fMFjNQHWsnupZMyYUZCsBQWrZuIaFenTp9cIZxP1gq9OzImjvZiTRspek4rb9OIGHVjxTGDVFbZ0drq4TQdWeblBN9f2CdMb999/v64UxPTGXXfdZZwxYbpusP4Seaus6iXix2MqAZvD4Itz8eLF6qkwoZiw1CwSHDBlgHr+/HmddjKpoD0IwEO0M3Zz/eabb3RazMTidr2YpgNk7Z05c6a6ohFtH19BLMXQoUN1BVLfvn2NkIXbdWAVotO6gSE5e/bs65qNJeRIdodMqZjaQIKqa73fpngm0HjopnLlylK9enWpUaOGFClSxOpQhO14oz0T1/Ya7ie4ouC2fPfdd8MGJdgLm24pBtuPa49z05cFDAksDRw9erQuHcaLBas4TCxu04sbdNC6dWuBaz2h4Eo8dOHdRC6bV1991XFpuE0HVoGZqBsE7WNlxrUFSe/gZcWHKpaZ16xZ87pjkL9k/fr1mkkXifLQPye84wHdoB/QM5518IxjJSamdtE2J4sxMRPdu3cXpD6GhYggmPgKrLG5c+dKly5dBMc7XUyfwwqFDx7Mb775pgZhuiFmom3btrpHCrLD4cvDlL044mPvJr24RQf4kkSgHKY78Py4tmAKEpqAGxvJ8AoXLhzKn4Wt57hJB1Y77hbdxO0XVklYyWKMODnkRYp0iU83yJ3y7bffyqRJkyRz5sz67sTSfSfyMBmzmiOwXhwPBUxjXOsGBEik28YeIglFbkdygE2Prg2FhZuisUeOHKkR+nBTIqIfCc9MLm7Si1t0gNgeJKVCfNW2bdtUC3ELAjPr1atnVH4aN+nA6t+TW3RjpV+mTHMkphsskR47dqwGjyK2EPFjkVzJZkyeCQS9wE2DLwmkL+3Zs2esdXX8+HGFA/cOAgCxZDRdunRW9BCWY01f9xtKp92yTjywlwuyoSKa36S5wxtxd5Ne3KIDsA5MdWCDLyQcgnGBAtc03NbIUouAXHg9TShu0oFVXm7STbB9M8WYCFY3iC9ELiDkVsH0B6YAMY0T7mJUBkzMaSJYCi72VKlSSd68eeXixYu6UQ9WECCLIdw52AXQhGJ6RrJwMDIlgx1W9yB/ADSBHPoJFcTXYMMep4uX9GKKDjCmCApGwO2KFSt09RGmvOCpgDGBmBpT8ksE9OclHVj9mzJJN8G23RRjwqpusFgBG9whMB1pFfAcxKZl4SrG7M0R6CCSDGHeDYmHkLAK0x1IkIQIVsyPX+vGDBeYYK5req70YPpg9RhTcuu3b98+6D1RsBzQhM3YvKQXU3QQ0C+MBzw4EUOBgDmsHsCmgchQG0g+ZFXr4TreSzqwysg03QTTflOMiVB1g3ih999/XxO24RchBeEoxuwaGo7Ohfuapu/iFo7+u2XXv3D0PanX9JJeqIPQ1eAlHVilQN1YJXb1+KTqBtPBCK6Htw5B64l5dK22NGrVqlUxmOeCR4DFGgHT95e31pvgjl69erXGr1AvwfGKe5SX9EIdWB//wBle0oFVCtSNVWJXj7dLNzAkOnbsqBvf2blUOgoZq7BWFaskTE2RHDr+8J2J1SXY4hqxHH4r1Iv1EfeiXqgD6sA6AdHcCHzfWCNn9/MDwZzYPPOhhx7ShG92FDUmqlatqnswIJscS3AEZsyYoa6iefPmBXeCh46iXqwPphf1Qh1QB9YJiFA31qmF4/mBlZMIzERMBfYxSqozQY0JRMafOHFCX44swRGA8YXIWGyC5bdCvVgfcS/qhTqgDqwTEN1nie8ba+TC+fzAVgQLFiwQrBYJLKu21rp/jlZjAoEZ2BRpx44doVzDl+dgVcmECRMEa9v9VqgX6yPuRb1QB9SBdQKieWH4vrFGLtzPD+R1QtoFJL6Ku8mZlVaqMYETkNRi1KhRUqZMGSvn+/JYpDBFZO3WrVt92X/qxdqwe1kvfG4ErwUv6yB4Cv8cSd0ETyxSusGyUex9hc3PQknHHWtMdOvWTc6cOcOpjiDGGC4n7E4JZn4t1EvwI+9lvVAH1EHwBK4eSd0ETy2Szw/srIsZCqTktlpijYmdO3dqZCeibFkSJoBVHMuXL9d8/34t1EvwI+9lvVAH1EHwBK4eSd0ETy3Szw/sZZM1a9agkwIGehJrTOA/INUpVnTYufY0eGTuOBLZFBFZO3XqVHc0OIytpF4Sh+sHvVAH1EHiBK4/grpJnJoTzw+k4cYuqu+88448//zziTfy/0f8y5jAFs7IkMWERDfmh8QhvXv3lho1agQN2asHUi+Jj6wf9EIdUAeJE7j+COomcWpOPT+wugObhG3atCnogMx/GRPoWqVKldQzUb9+/cR76rMjkPcfliJAs/xDgHq5sRL8pBfqgDoI5ZlI3ZirG3gm9u/fL+PGjQtqaK8zJuDCh3di48aNQV3ATwcVLlxYvRJM7nV11KmXG/8F+Ekv1AF1EMq7gLoxWzcFCxaUDz/8MKh33nXGBLqGuayKFSvqLp0s/xDAjoSLFi1irEQ8gqBerofiR71QB9RBKO8L6sZc3Xz99dfyySef6IKDxEq8xsSGDRukbNmysn37dt3+2+/l4MGDUqBAAVm2bJkUKVLE7ziu6z/18m8kftULdUAdhPJwpG7M1g2morCPBxKNJVTiNSZwQteuXXW9KXJ2+708++yzggxk3bt39zuKG/afermKxs96oQ6og1AektSNubrBysU+ffok6p24oTGBrsE78cILL0iTJk1C0Ycnzhk2bJiMHTtWvRIsCROgXkSoFz438FdCHVh/WvL5Ya5usKqkb9++Uq1atRsObILGBHKolyhRQrAHfcmSJa2rw+VnYJtWrLddu3atL/fgsDp81Av1As1QB9SB1WcHdSNi8vtm4MCBgrTe48ePD82YwFkjRoyQAQMGyNKlS5O8RWkoAnPqHOwfX65cOWnZsqU0btzYqWa47r7UC/XC5wafG6E+uPj8MPP5gW3KM2bMKKdPn5Y0adLEO7wJeiYCZ3Ts2FGDMUPJ1x2qqJw+Lzo6WoMu4dphsUaAerHGy6tHUwdeHdnw9ou6CS/fUK+OJFZ16tSRF198MXRjAmc2bNhQkidPrjuLer1gR9BLly4FnazD6zxC6R/1Ego1751DHXhvTCPRI+omEpSt3WPMmDG6qyi2Ko+vBOWZCJyI9cBZsmTR4CKvFgSbHj16lPkkbBhg6sUGiB64BHXggUF0oAvUjQPQE7jlsWPHJH/+/Lq7eJKNCVwAA5w+fXpPeijgkcDcEDfxsk/E1It9LN18JerAzaPnXNupG+fYx3dnLMRADCVW3lxbLHkmAifDBQXrBHsPpE6d2qzehtAaBFtiL5K0adNyaiMEfomdQr0kRsgf/5868Mc4291L6sZuoqFfDwsScuTIIe3atbPHmMBVECSDXd9Gjhzp6mWjWI7TqFEj3QWUwZahiyyxM6mXxAj54/9TB/4YZ7t7Sd3YTTS062HTr5kzZ8qECRPsMyZwJSzjwQ6jQ4cOdWViK8R+NG3aVHcC5fLP0MRl5SzqxQot7x5LHXh3bMPZM+omnHSDuza2JEeG3y1btthrTOBqSFDTokULyZ49u/Tr188Ve3lg74QOHTrIgQMHZNCgQUxIFZyObDmKerEFo+svQh24fggd6QB14wj22JtevnxZUqRIIRcvXpRkyZL9qzEhxUzE1x3kVsdWpe+9957Ru41iN8d3331X2rdvz702HNQl9eIgfINuTR0YNBguagp149xg5c2bV6c6sLIjbrHNmMBFsfsbBnnPnj3SqVMnDWo0pSBYFJuV5M6dW40I7v7p/MhQL86PgQktoA5MGAX3tYG6cWbMqlSpIm+99ZbgN2zGRODCM2bM0CkPrPho1qyZxlU4VRAPMWTIEF2pgamN2rVrO9UU3vcGBKgXSgMEqAPqIBQC1E0o1EI/p0GDBrpgAb9hNyYCN8BqDwQ5LlmyRDNoInCjTJkyofciyDOxIQm2Tkfkafny5TU4FJ1nMZsA9WL2+ESqddRBpEh76z7UTWTGs02bNhojid+IGROBG+3cuVNzUkycOFEQwFGrVi2pWrWqVKxY0ZY8FcgTsWjRIpk3b57O5SAw5JlnntFplnz58kWGMO9iGwHqxTaUrr4QdeDq4XOs8dRNeNEjTCAmJka6desWeWMi7h0RjQsLcv78+bJ48WIpVKiQFC1aVH8R2JEtWzbJnDmzpEuXTlKmTKmGAQyQ8+fP645lSOmJ1Ri7du2SrVu3yvr16/W3QoUKUrlyZfVAFC9ePLw0efWIEaBeIoba6BtRB0YPj7GNo27sHxostMB7GKEMEfdMJNSd1atXa+Dmtm3bZPfu3XLo0CE5fvy4Gg4wIGBIwKCAYQEDI1OmTJI1a1bJkyePFCxYUAMpS5UqZT8xXtFIAtSLkcMS8UZRBxFH7okbUjdJH8aBAwcKvD9Iq22UMZH0rvEKJPAPgTfeeEN3tdu7dy+RkAAJkAAJhIEAFjRgNgA5mmhMhAEwL+ksAUyd1alTR71Yf/31l7ON4d1JgARIwKMEYETs2LFD4KGgMeHRQfZrtzZv3iwPPvig/PHHH7oEGLE4DzzwgF9xsN8kQAIkEDYCSPx4+PBh+eijj2hMhI0yLxxxAoitQQDv/v379d6pUqUSiN3J3CYRh8AbkgAJkECECPTs2VP+/PNPef/992lMRIg5bxMBAljFg51f405tYFnw119/HYG78xYkQAIk4C8CyG6dIUMGzXLNaQ5/jb1ne/vcc8/J5MmT5dKlS7rSB9byhQsXNKFKwFPh2c6zYyRAAiTgAIHXXntNSpYsKfilMeHAAPCW9hJAltOyZctKsWLFNLfI1KlTdSe7ffv2aUKVo0ePqvXMQgIkQAIkYB+BJ598UlNp45fGhH1ceSVDCKRJk0YNiVatWqm3YtSoUZq+nYUESIAESMA+AviIQ8KqcuXK0ZiwDyuvZAIBZEOtVq1abH4JiL1///5MZmbC4LANJEACniKQI0cOWbBggeTKlYvGhKdGlp2RWbNmqfGAXBMsJEACJEAC4SFw5coVzeWDODX8cpojPJx5VYcIYGfadevWyaeffupQC3hbEiABEvA+AWx5AS/wnj17rutsVAyi1VhIwMUEevTooXu4YDc7FhIgARIggfAQmDNnjmCjr7lz59KYCA9iXtVJAu3atZN77rlH2rZt62QzeG8SIAES8DQBpNDevn27DB48mMaEp0fap51r3ry53HfffdKsWTOfEmC3SYAESCD8BJo2barP2hYtWtCYCD9u3iHSBCBsbEcPo4KFBEiABEggPASQcRjTyg8//DCNifAg5lWdJNChQwfJnDmztG/f3slm8N4kQAIk4GkC2Ehx79698SYEZACmp4feH53r1auX/P7774JfFhIgARIgAfsJbNu2TaKjo2Xnzp3xXpzGhP3MecUIE0C2y4ULF8ro0aMjfGfejgRIgAT8QWDs2LGa02fChAk0Jvwx5P7rJbKxdenSRRYtWuS/zrPHJEACJBABAghwz58/v7Ru3ZrGRAR48xYOEDh27JgUKlRIfvvtNwfuzluSAAmQgPcJFClSRIYPHy6lS5emMeH94fZvD5EnHglVYDmzkAAJkAAJ2EcAH2z33nuvnD59+oYXZcyEfbx5JQcJ1K9fX6pUqSKNGjVysBW8NQmQAAl4jwDiJCZOnChTpkyhMeG94WWP4hL4/PPP5ccff5Qvv/ySYEiABEiABGwk8Morr0jx4sUTzOVDz4SNwHkp5wgcOXJE3XBnz551rhG8MwmQAAl4kAC2K0Cge758+eiZ8OD4skvXEKhevbq8+uqr8vTTT5MNCZAACZCADQSWLFkiLVu2lJ9++inBq9EzYQNsXsIMAsgzgTm9adOmmdEgtoIESIAEXE4AGYZTpkyZ6K7MNCZcPtBs/r8JZMqUSd1xWCrKQgIkQAIkkDQCefLkkW+++UaKFi1Kz0TSUPJsNxHo2rWrnDhxQoYMGeKmZrOtJEACJGAcAQS1d+rUSdasWZNo2+iZSBQRD3ATASSuypYtm2zYsCHBYCE39YltJQESIAEnCDRu3Fh3ZG7Xrl2it6cxkSgiHuA2At27d5d9+/YJ9uxgIQESIAESsE4AmydmzJhR9u/fL1myZEn0AjQmEkXEA9xG4NKlS5I3b15B7gkksmIhARIgARKwRmDAgAGycuVK+eKLL4I6kcZEUJh4kNsIjB8/XvDHsGrVKrc1ne0lARIgAccJFC5cWD755BOpXLlyUG2hMREUJh7kRgL16tXTRFY9evRwY/PZZhIgARJwhMC3334rH3/8sSDHRLCFxkSwpHic6wj88ssvupwJbrpq1aq5rv1sMAmQAAk4QQDeCCQAfO6554K+PY2JoFHxQDcSmDRpknTu3FmnOxBMxEICJEACJHBjAjNnzpS33npL1q9fbwkTjQlLuHiwGwm8/fbbsmnTJpk+fbobm882kwAJkEDECMAr8fLLL0vDhg0t3ZPGhCVcPNitBLBfBzarQUARCwmQAAmQwPUEsM04YiVWrFhhGQ+NCcvIeIIbCVy4cEEqVaok0dHR8uabb7qxC2wzCZAACYSVAFZw9OzZU+rUqWP5PjQmLCPjCW4lcODAAQ3EbNWqlTRr1syt3WC7SYAESMB2An369JHVq1fL5MmTQ7o2jYmQsPEktxLYvP0Jpc0AAAvgSURBVHmz1KxZU7p06aLRyiwkQAIk4HcCu3fvlgIFCsjGjRs1fXYohcZEKNR4jqsJrFu3Tt1477zzjjRp0sTVfWHjSYAESCCpBOrWrSvFihUTBKuHWmhMhEqO57maACzwJ554Qqc7gtnExtWdZeNJgARI4AYEPvvsMxkzZowsXbo0SYxoTCQJH092MwG49rDKo0aNGtKrVy83d4VtJwESIAHLBHbs2KGJ/RYuXCilS5e2fH7cE2hMJAkfT3Y7gVOnTmmWN+yKN3r0aLd3h+0nARIggaAJIKdE7dq1bfHO0pgIGjsP9DIBBGP+/PPPMnbsWMmRI4eXu8q+kQAJkIAaENhyYMKECbbQoDFhC0ZexAsEPvjgA+nfv79uXV6rVi0vdIl9IAESIIHrCIwYMUIT+CE5VapUqWwhRGPCFoy8iFcITJs2TZeMtm7dWvPTs5AACZCAlwjMmzdPV7NhR9ASJUrY1jUaE7ah5IW8QmDfvn3StGlTueWWW2TIkCFy9913e6Vr7AcJkICPCWCPoocffliwguPJJ5+0lQSNCVtx8mJeItC9e3cZNGiQDBgwwNJWvF5iwL6QAAl4g8D+/fulevXq6nXFx5LdhcaE3UR5PU8RmD9/vv7xYdkUNsBJkyaNp/rHzpAACXifwJEjRzQODCvXOnbsGJYO05gIC1Ze1EsEYmJiNPIZO+r169ePXgovDS77QgIeJ3Dw4EF57LHHdFoDWX/DVWhMhIssr+s5AnPnzpVOnTpJ/vz5BSs/cubM6bk+skMkQALeIbB9+3Y1Iho2bBj23ZJpTHhHN+xJhAj06NFD3n//fa3hchlGqCu8DQmQgEcJYLVGvXr1pHPnzvLGG2+EvZc0JsKOmDfwIoEtW7bozqN79uwRBGpGR0d7sZvsEwmQgAsJIBFVgwYNZNy4cfL8889HpAc0JiKCmTfxKoHJkyerMYGpDxgXRYoU8WpX2S8SIAEXEIDndOTIkZrNt2LFihFrMY2JiKHmjbxM4KOPPtJpj/r162uyK+am8PJos28kYB6BkydPyuuvvy7nzp1TYyLSzyAaE+Zpgi1yKQFsGta7d29dQop5SlS7UtW6FAmbTQIkEAECM2bMkObNm+tKMzyDnCg0Jpygznt6mgC2Nu/bt698/fXX0qFDB2nfvr1m02QhARIgAbsJ4PmCZesDBw7UJaBOFRoTTpHnfT1PYPPmzYLpj++++07atm0rbdq0kdtuu83z/WYHSYAEwk8A3gisJitTpox6Q9OlSxf+myZwBxoTjuLnzf1AYMOGDbpD35QpU6RVq1ZaM2TI4Ieus48kQAI2E0ASKgR7L126VKc0nnrqKZvvENrlaEyExo1nkYBlAlu3blVXJLY4b9GihdbcuXNbvg5PIAES8B8BZOJFkPd7772nyfOwaiMqKsoYEDQmjBkKNsQvBA4cOCCDBw/WHUmfeOIJadasmTz44IN+6T77SQIkYJEAnhd9+vSRSpUqaUpsLEU3rdCYMG1E2B7fEPj9999l2LBhWnPlyqXLuurWreub/rOjJEACCROAEYEp0vvuu0+DucuVK2csMhoTxg4NG+YnAl9++aUMHz5cDh8+LI0bN9bKuAo/KYB9JYF/CJw4cUI+/fRTGTp0qHosEWMVyeRToY4DjYlQyfE8EggDgWXLlmlMBZLONGrUSF566SWpUKFCGO7ES5IACZhEYPny5fp3P2LECHnttdekSZMmUqxYMZOamGBbaEy4ZqjYUD8R+PXXX2XUqFEyevRoTXz1wgsvaE2dOrWfMLCvJOBpAshWOX78eE19jaR3+HjAR0SmTJlc128aE64bMjbYbwRmz56tD5tJkybpVsJI2V2lShW/YWB/ScAzBL7//nv56quvBNObzz77rP5N165d29X9ozHh6uFj4/1E4Pjx4/oV88UXX8j58+c1dS5qvnz5/ISBfSUBVxKYP3++fPvtt4LNAe+991555plndIvwO+64w5X9ubbRNCY8MYzshN8IrFixQrDNML5uEOmNBxMqgzb9pgT212QC8CpOnz5dKzbewlLwJ598Uo0JrxUaE14bUfbHdwSmTp2qufkxDfLoo49qRjw8sFKmTOk7FuwwCThJALFOs2bN0op010WKFNG/yTp16kjBggWdbFrY701jIuyIeQMSiAwBTH3AhfrNN9/IzJkz9Svo8ccf181/br/99sg0gnchAZ8RQFrrefPmyQ8//CAbN26URx55RGrUqKE1a9asvqFBY8I3Q82O+okAIsOxF8i0adN0o7Ho6Gj9OsJXUubMmf2Egn0lAVsJwGBYsGCB/Pe//9WaN29eDYiuWrWqVKtWzdZ7ueliNCbcNFpsKwmEQODs2bNqUKDC9VqiRAmpVauW1KxZUx544IEQrshTSMA/BNasWSNLlizRunjxYo1LQhIppLZGveuuu/wDI4Ge0pigDEjAZwQwBYKKed3kyZOrW7Z69er6VXXLLbf4jAa7SwJXCSDmYeXKlYIAZ1QkkoLnoWzZsprKunz58pIjRw4ii4cAjQnKggR8TGD9+vUyZ84cmTt3rrps4aqFyxYVHgwWEvAqgT/++EPWrl2rFd6H1atXayrr0qVLa0Uqa9SMGTN6FYGt/aIxYStOXowE3EsAG4/9+OOPWrEmHg/WgCsXbl0sQWUhATcSQI6WDRs2CIznQN2zZ48UL15cKwznkiVLyv333+/G7hnRZhoTRgwDG0EC5hHYv3+/BpotXLhQFi1aJH/++ae6eVHh8sVDmIUETCIAjW7ZskU2b94cWzdt2iR///23FC5cWGvRokV1ySZ+WewjQGPCPpa8Egl4msDevXs1AA1L4bAh2YEDB+Shhx6SMmXKaIVr2CvZ/Dw9kB7oHGIbduzYIdu3b9e6bds2rb/88osUKlRIvWiBiiBjxjmEf9BpTISfMe9AAp4kgAc6AtQQsIa6atUqjWyHuxhuY1TsesjNyTw5/GHvFJY37969W3bt2qV1586dWn/++We9d/78+TWTZIECBWKrFzNLhh20TTegMWETSF6GBEhA1LWMYLZAYNu6deskV65c6lZGhZsZX4rZsmUjLp8TuHDhgmAqbd++fQKvF34Rx4B/xu/ly5clT548WrGiIlCxF02WLFl8Ts+87tOYMG9M2CIS8BQBzFkj6A3JflADc9gBNzTc0oGvSz9lDPTUIMfTGUw5HDp0SA4ePBhbMTWGf4cRAc8Dph9Qc+bMqRWGZ6AyuZq7FEJjwl3jxdaSgCcIHDt2TAPltm7dqjUw943lenBfowa+RPFlmjt3bn6NGjLyGLujR4/KkSNHYisMh0A9fPiwoGLKC8ZhoMIbhZo9e3at99xzjyE9YjPsIEBjwg6KvAYJkIAtBPC1ijnxwPw45sxR4faGoYGv1sDXLF5IgRcUXljYlZFJt6wPw7lz53QZMGJg8ItllIFf/DOMh7g1U6ZMatihwmAIVPAPVBgKSIjG4h8CNCb8M9bsKQm4mgDSgmNeHS5y1IDLHK50VHwNp0uXTl9ugZcdXOV4+aFipQkqkhCh4lgvlTNnzsjp06d1+iBQT548qf+M399++y32F/+MCgPi1ltvVS533nln7C944d8D7AIc8UsjwUuqsa8vNCbsY8krkQAJOEwAX9IB93vgazrwpR34+g68VGGcpE+fXo0K1DRp0sTWVKlSCSp2W0W97bbbYiu8H4GaIkUKQcULFjVZsmRy0003aY2KilIaMTExsRVBhYF66dIluXjxouZAQEVAIupff/2lFbvAIm8CPDKBisRi8CSgov0wIAJGRKAf+EW/AhV7ScStMKTw7/iFEQFjgoUEkkqAxkRSCfJ8EiABVxLASx1f7fiaD7yU8YLGixovbdTASxwvdbzc8ZIPvPTxC2MAFYYBKq555coVrTAiUGBUBCqMjUCF8QFD5Oabb9YaMFDwckeFAZMyZUo1ZvAbMHCw1BY1YPykTZtWjaGA8eLKwWCjXU+AxoTrh5AdIAESIAESIAFnCdCYcJY/704CJEACJEACridAY8L1Q8gOkAAJkAAJkICzBGhMOMufdycBEiABEiAB1xP4H1KY/pUeAWotAAAAAElFTkSuQmCC)"
      ],
      "metadata": {
        "id": "_sbRYmhLQ_ba"
      }
    },
    {
      "cell_type": "markdown",
      "source": [
        "Input: head = [3,2,0,-4], pos = 1\n",
        "Output: true\n",
        "Explanation: There is a cycle in the linked list, where the tail connects to the 1st node (0-indexed)."
      ],
      "metadata": {
        "id": "jt7QPgfGRbqW"
      }
    },
    {
      "cell_type": "code",
      "source": [
        "class ListNode:\n",
        "     def __init__(self, x):\n",
        "         self.val = x\n",
        "         self.next = None\n",
        "head=ListNode(3)\n",
        "node2=ListNode(2)\n",
        "node3= ListNode(0)\n",
        "node4=ListNode(-4)\n",
        "head.next = node2\n",
        "node2.next=node3\n",
        "node3.next=node4\n",
        "node4.next=node2\n",
        "\n",
        "def hasCycle(head):\n",
        "  if head == None:\n",
        "            return False\n",
        "  if head.next == None:\n",
        "      return False\n",
        "  slow = head\n",
        "  fast = head.next\n",
        "        \n",
        "  while fast and fast.next:\n",
        "      if slow == fast:\n",
        "          return True\n",
        "      fast = fast.next.next\n",
        "      slow = slow.next\n",
        "  \n",
        "  return False\n",
        "print(hasCycle(head))"
      ],
      "metadata": {
        "id": "lHKU0isI3DuJ",
        "colab": {
          "base_uri": "https://localhost:8080/"
        },
        "outputId": "cc8905bc-b6c8-4acf-8849-340be2937ae6"
      },
      "execution_count": null,
      "outputs": [
        {
          "output_type": "stream",
          "name": "stdout",
          "text": [
            "True\n"
          ]
        }
      ]
    },
    {
      "cell_type": "markdown",
      "source": [
        "##7) Find the first node in cyclic linked list\n",
        "\n",
        "Detailed explanation here : https://www.geeksforgeeks.org/find-first-node-of-loop-in-a-linked-list/"
      ],
      "metadata": {
        "id": "4DSD6Rwvlyf2"
      }
    },
    {
      "cell_type": "code",
      "source": [
        "def detectCycle(self, head):\n",
        "\t\tp1 = head\n",
        "\t\tslow, fast = head, head\n",
        "\t\twhile fast and fast.next:\n",
        "\t\t\tslow, fast = slow.next, fast.next.next\n",
        "\t\t\tif slow == fast: break\n",
        "\n",
        "\t\tif not fast or not fast.next: return None\n",
        "\t\twhile p1 != fast:\n",
        "\t\t\tp1, fast = p1.next, fast.next\n",
        "\t\treturn p1"
      ],
      "metadata": {
        "id": "GNr7vxVV3DpK"
      },
      "execution_count": null,
      "outputs": []
    },
    {
      "cell_type": "markdown",
      "source": [
        "##8) Removing Nth Node from the end"
      ],
      "metadata": {
        "id": "yFYyUuElvlUm"
      }
    },
    {
      "cell_type": "code",
      "source": [
        "class Solution:\n",
        "    def removeNthFromEnd(self, head):\n",
        "        #find length of linked list\n",
        "        k=1\n",
        "        current=head\n",
        "        while current.next !=None:\n",
        "            k=k+1\n",
        "            current=current.next\n",
        "        #find node position from front\n",
        "        f=k-n+1\n",
        "        if f==1:\n",
        "            return head.next\n",
        "        p=1\n",
        "        prev=None\n",
        "        current=head\n",
        "        while p!=f:\n",
        "            prev=current\n",
        "            current=current.next\n",
        "            p=p+1\n",
        "        prev.next=current.next\n",
        "        current.next=None\n",
        "        return head\n",
        "            \n",
        "        "
      ],
      "metadata": {
        "id": "4gwVg5UAvk6j"
      },
      "execution_count": 1,
      "outputs": []
    }
  ]
}