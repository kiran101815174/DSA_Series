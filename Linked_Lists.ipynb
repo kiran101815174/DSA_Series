{
  "nbformat": 4,
  "nbformat_minor": 0,
  "metadata": {
    "colab": {
      "name": "Linked_Lists.ipynb",
      "provenance": [],
      "authorship_tag": "ABX9TyPXo1pOgUTS/YoM5+QCayBT",
      "include_colab_link": true
    },
    "kernelspec": {
      "name": "python3",
      "display_name": "Python 3"
    },
    "language_info": {
      "name": "python"
    }
  },
  "cells": [
    {
      "cell_type": "markdown",
      "metadata": {
        "id": "view-in-github",
        "colab_type": "text"
      },
      "source": [
        "<a href=\"https://colab.research.google.com/github/kiran101815174/DSA_Series/blob/main/Linked_Lists.ipynb\" target=\"_parent\"><img src=\"https://colab.research.google.com/assets/colab-badge.svg\" alt=\"Open In Colab\"/></a>"
      ]
    },
    {
      "cell_type": "markdown",
      "source": [
        "## Introduction\n",
        "A linked list is a linear dynamic data structure. The number of nodes in a list is not fixed and can grow and shrink on demand. Each node of \n",
        "a linked list is made up of two items - the data and a reference to the next node. The last node has a reference to null. The entry point into a \n",
        "linked list is called the head of the list. It should be noted that head is not a separate node, but the reference to the first node. If the list is \n",
        "empty then the head is a null reference\n",
        " Successive elements are connected by pointers\n",
        " The last element points to None\n",
        " Can grow or shrink in size during execution of a program\n",
        " Can be made just as long as required (until systems memory exhausts)\n",
        " Does not waste memory space (but takes some extra memory for pointers). It allocates memory as list grows."
      ],
      "metadata": {
        "id": "CnSkA_DMxd74"
      }
    },
    {
      "cell_type": "code",
      "execution_count": null,
      "metadata": {
        "id": "qcpn-g9bv8nw"
      },
      "outputs": [],
      "source": [
        ""
      ]
    }
  ]
}